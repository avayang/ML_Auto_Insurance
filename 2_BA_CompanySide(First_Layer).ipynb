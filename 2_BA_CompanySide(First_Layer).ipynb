{
  "cells": [
    {
      "cell_type": "markdown",
      "source": [
        "# 0 Introduction to the dataset"
      ],
      "metadata": {
        "id": "5pc2IgR2MjCx",
        "colab_type": "text"
      }
    },
    {
      "cell_type": "code",
      "source": [
        "!pip install -U -q PyDrive\n",
        "from pydrive.auth import GoogleAuth\n",
        "from pydrive.drive import GoogleDrive\n",
        "from google.colab import auth\n",
        "from oauth2client.client import GoogleCredentials\n",
        "# Authenticate and create the PyDrive client.\n",
        "auth.authenticate_user()\n",
        "gauth = GoogleAuth()\n",
        "gauth.credentials = GoogleCredentials.get_application_default()\n",
        "drive = GoogleDrive(gauth)\n",
        "\n",
        "#import the useful packages and the raw dataset\n",
        "import pandas as pd\n",
        "import numpy as np\n",
        "import matplotlib.pyplot as plt\n",
        "import seaborn as sns \n",
        "import copy\n",
        "from sklearn.linear_model import LogisticRegression\n",
        "from sklearn.preprocessing import StandardScaler\n",
        "from sklearn.model_selection import train_test_split\n",
        "from sklearn.model_selection import KFold, cross_val_score\n",
        "import warnings\n",
        "warnings.filterwarnings('ignore')\n",
        "\n",
        "link=\"https://drive.google.com/open?id=1dN93GlOgXUfTfaDkeewbol6USNExovnJ\"\n",
        "\n",
        "_,id=link.split(\"=\")\n",
        "downloaded = drive.CreateFile({'id':id}) \n",
        "downloaded.GetContentFile('customers.csv')  \n",
        "df = pd.read_csv('customers.csv')"
      ],
      "outputs": [],
      "execution_count": 0,
      "metadata": {
        "id": "gg_EjSkGMjC1",
        "colab_type": "code",
        "colab": {}
      }
    },
    {
      "cell_type": "code",
      "source": [
        "#Explore the dataset by grouping the Renew Offer Type\n",
        "df.groupby('Renew Offer Type').mean()"
      ],
      "outputs": [
        {
          "output_type": "execute_result",
          "execution_count": 5,
          "data": {
            "text/html": [
              "<div>\n",
              "<style scoped>\n",
              "    .dataframe tbody tr th:only-of-type {\n",
              "        vertical-align: middle;\n",
              "    }\n",
              "\n",
              "    .dataframe tbody tr th {\n",
              "        vertical-align: top;\n",
              "    }\n",
              "\n",
              "    .dataframe thead th {\n",
              "        text-align: right;\n",
              "    }\n",
              "</style>\n",
              "<table border=\"1\" class=\"dataframe\">\n",
              "  <thead>\n",
              "    <tr style=\"text-align: right;\">\n",
              "      <th></th>\n",
              "      <th>Customer Lifetime Value</th>\n",
              "      <th>Income</th>\n",
              "      <th>Monthly Premium Auto</th>\n",
              "      <th>Months Since Last Claim</th>\n",
              "      <th>Months Since Policy Inception</th>\n",
              "      <th>Number of Open Complaints</th>\n",
              "      <th>Number of Policies</th>\n",
              "      <th>Total Claim Amount</th>\n",
              "    </tr>\n",
              "    <tr>\n",
              "      <th>Renew Offer Type</th>\n",
              "      <th></th>\n",
              "      <th></th>\n",
              "      <th></th>\n",
              "      <th></th>\n",
              "      <th></th>\n",
              "      <th></th>\n",
              "      <th></th>\n",
              "      <th></th>\n",
              "    </tr>\n",
              "  </thead>\n",
              "  <tbody>\n",
              "    <tr>\n",
              "      <th>Offer1</th>\n",
              "      <td>8707.085583</td>\n",
              "      <td>30764.733209</td>\n",
              "      <td>96.947228</td>\n",
              "      <td>15.197495</td>\n",
              "      <td>51.442431</td>\n",
              "      <td>0.442697</td>\n",
              "      <td>3.197228</td>\n",
              "      <td>469.165640</td>\n",
              "    </tr>\n",
              "    <tr>\n",
              "      <th>Offer2</th>\n",
              "      <td>7396.753826</td>\n",
              "      <td>44014.951128</td>\n",
              "      <td>90.037936</td>\n",
              "      <td>15.219070</td>\n",
              "      <td>45.743336</td>\n",
              "      <td>0.320916</td>\n",
              "      <td>2.826042</td>\n",
              "      <td>408.778268</td>\n",
              "    </tr>\n",
              "    <tr>\n",
              "      <th>Offer3</th>\n",
              "      <td>7997.886516</td>\n",
              "      <td>38551.767458</td>\n",
              "      <td>92.458101</td>\n",
              "      <td>14.865922</td>\n",
              "      <td>47.486732</td>\n",
              "      <td>0.384777</td>\n",
              "      <td>2.967877</td>\n",
              "      <td>423.391734</td>\n",
              "    </tr>\n",
              "    <tr>\n",
              "      <th>Offer4</th>\n",
              "      <td>7179.947270</td>\n",
              "      <td>43495.460938</td>\n",
              "      <td>89.714844</td>\n",
              "      <td>14.703125</td>\n",
              "      <td>43.128906</td>\n",
              "      <td>0.351562</td>\n",
              "      <td>2.517578</td>\n",
              "      <td>392.847065</td>\n",
              "    </tr>\n",
              "  </tbody>\n",
              "</table>\n",
              "</div>"
            ],
            "text/plain": [
              "                  Customer Lifetime Value  ...  Total Claim Amount\n",
              "Renew Offer Type                           ...                    \n",
              "Offer1                        8707.085583  ...          469.165640\n",
              "Offer2                        7396.753826  ...          408.778268\n",
              "Offer3                        7997.886516  ...          423.391734\n",
              "Offer4                        7179.947270  ...          392.847065\n",
              "\n",
              "[4 rows x 8 columns]"
            ]
          },
          "metadata": {
            "tags": []
          }
        }
      ],
      "execution_count": 5,
      "metadata": {
        "id": "DP3chNDAMjC7",
        "colab_type": "code",
        "colab": {
          "base_uri": "https://localhost:8080/",
          "height": 238
        },
        "outputId": "d7ea1824-ff56-43ae-e468-01c87363fcc9"
      }
    },
    {
      "cell_type": "code",
      "source": [
        "#numerical feature list\n",
        "list_ = ['Customer Lifetime Value', 'Income', 'Monthly Premium Auto', 'Months Since Last Claim',\\\n",
        "        'Months Since Policy Inception', 'Number of Open Complaints', 'Number of Open Complaints',\\\n",
        "        'Number of Policies', 'Total Claim Amount', 'Renew Offer Type']"
      ],
      "outputs": [],
      "execution_count": 0,
      "metadata": {
        "id": "uy2vcFo3MjDA",
        "colab_type": "code",
        "colab": {}
      }
    },
    {
      "cell_type": "code",
      "source": [
        "df.tail(10)"
      ],
      "outputs": [
        {
          "output_type": "execute_result",
          "execution_count": 7,
          "data": {
            "text/html": [
              "<div>\n",
              "<style scoped>\n",
              "    .dataframe tbody tr th:only-of-type {\n",
              "        vertical-align: middle;\n",
              "    }\n",
              "\n",
              "    .dataframe tbody tr th {\n",
              "        vertical-align: top;\n",
              "    }\n",
              "\n",
              "    .dataframe thead th {\n",
              "        text-align: right;\n",
              "    }\n",
              "</style>\n",
              "<table border=\"1\" class=\"dataframe\">\n",
              "  <thead>\n",
              "    <tr style=\"text-align: right;\">\n",
              "      <th></th>\n",
              "      <th>Customer</th>\n",
              "      <th>State</th>\n",
              "      <th>Customer Lifetime Value</th>\n",
              "      <th>Response</th>\n",
              "      <th>Coverage</th>\n",
              "      <th>Education</th>\n",
              "      <th>Effective To Date</th>\n",
              "      <th>EmploymentStatus</th>\n",
              "      <th>Gender</th>\n",
              "      <th>Income</th>\n",
              "      <th>Location Code</th>\n",
              "      <th>Marital Status</th>\n",
              "      <th>Monthly Premium Auto</th>\n",
              "      <th>Months Since Last Claim</th>\n",
              "      <th>Months Since Policy Inception</th>\n",
              "      <th>Number of Open Complaints</th>\n",
              "      <th>Number of Policies</th>\n",
              "      <th>Policy Type</th>\n",
              "      <th>Policy</th>\n",
              "      <th>Renew Offer Type</th>\n",
              "      <th>Sales Channel</th>\n",
              "      <th>Total Claim Amount</th>\n",
              "      <th>Vehicle Class</th>\n",
              "      <th>Vehicle Size</th>\n",
              "    </tr>\n",
              "  </thead>\n",
              "  <tbody>\n",
              "    <tr>\n",
              "      <th>9124</th>\n",
              "      <td>CB59349</td>\n",
              "      <td>California</td>\n",
              "      <td>16261.585500</td>\n",
              "      <td>No</td>\n",
              "      <td>Extended</td>\n",
              "      <td>Master</td>\n",
              "      <td>1/20/11</td>\n",
              "      <td>Employed</td>\n",
              "      <td>M</td>\n",
              "      <td>60646</td>\n",
              "      <td>Suburban</td>\n",
              "      <td>Married</td>\n",
              "      <td>134</td>\n",
              "      <td>31</td>\n",
              "      <td>42</td>\n",
              "      <td>0</td>\n",
              "      <td>2</td>\n",
              "      <td>Personal Auto</td>\n",
              "      <td>Personal L3</td>\n",
              "      <td>Offer2</td>\n",
              "      <td>Agent</td>\n",
              "      <td>643.200000</td>\n",
              "      <td>SUV</td>\n",
              "      <td>Medsize</td>\n",
              "    </tr>\n",
              "    <tr>\n",
              "      <th>9125</th>\n",
              "      <td>RX91025</td>\n",
              "      <td>California</td>\n",
              "      <td>19872.262000</td>\n",
              "      <td>No</td>\n",
              "      <td>Premium</td>\n",
              "      <td>High School or Below</td>\n",
              "      <td>1/31/11</td>\n",
              "      <td>Unemployed</td>\n",
              "      <td>M</td>\n",
              "      <td>0</td>\n",
              "      <td>Suburban</td>\n",
              "      <td>Single</td>\n",
              "      <td>185</td>\n",
              "      <td>26</td>\n",
              "      <td>35</td>\n",
              "      <td>0</td>\n",
              "      <td>2</td>\n",
              "      <td>Personal Auto</td>\n",
              "      <td>Personal L3</td>\n",
              "      <td>Offer1</td>\n",
              "      <td>Agent</td>\n",
              "      <td>1950.725547</td>\n",
              "      <td>SUV</td>\n",
              "      <td>Small</td>\n",
              "    </tr>\n",
              "    <tr>\n",
              "      <th>9126</th>\n",
              "      <td>AC13887</td>\n",
              "      <td>California</td>\n",
              "      <td>4628.995325</td>\n",
              "      <td>No</td>\n",
              "      <td>Basic</td>\n",
              "      <td>Bachelor</td>\n",
              "      <td>1/9/11</td>\n",
              "      <td>Unemployed</td>\n",
              "      <td>M</td>\n",
              "      <td>0</td>\n",
              "      <td>Suburban</td>\n",
              "      <td>Single</td>\n",
              "      <td>67</td>\n",
              "      <td>25</td>\n",
              "      <td>21</td>\n",
              "      <td>0</td>\n",
              "      <td>4</td>\n",
              "      <td>Corporate Auto</td>\n",
              "      <td>Corporate L1</td>\n",
              "      <td>Offer1</td>\n",
              "      <td>Branch</td>\n",
              "      <td>482.400000</td>\n",
              "      <td>Two-Door Car</td>\n",
              "      <td>Medsize</td>\n",
              "    </tr>\n",
              "    <tr>\n",
              "      <th>9127</th>\n",
              "      <td>TF56202</td>\n",
              "      <td>California</td>\n",
              "      <td>5032.165498</td>\n",
              "      <td>No</td>\n",
              "      <td>Basic</td>\n",
              "      <td>College</td>\n",
              "      <td>2/12/11</td>\n",
              "      <td>Employed</td>\n",
              "      <td>M</td>\n",
              "      <td>66367</td>\n",
              "      <td>Suburban</td>\n",
              "      <td>Divorced</td>\n",
              "      <td>64</td>\n",
              "      <td>6</td>\n",
              "      <td>48</td>\n",
              "      <td>0</td>\n",
              "      <td>3</td>\n",
              "      <td>Personal Auto</td>\n",
              "      <td>Personal L3</td>\n",
              "      <td>Offer2</td>\n",
              "      <td>Call Center</td>\n",
              "      <td>307.200000</td>\n",
              "      <td>Two-Door Car</td>\n",
              "      <td>Small</td>\n",
              "    </tr>\n",
              "    <tr>\n",
              "      <th>9128</th>\n",
              "      <td>YM19146</td>\n",
              "      <td>California</td>\n",
              "      <td>4100.398533</td>\n",
              "      <td>No</td>\n",
              "      <td>Premium</td>\n",
              "      <td>College</td>\n",
              "      <td>1/6/11</td>\n",
              "      <td>Employed</td>\n",
              "      <td>F</td>\n",
              "      <td>47761</td>\n",
              "      <td>Suburban</td>\n",
              "      <td>Single</td>\n",
              "      <td>104</td>\n",
              "      <td>16</td>\n",
              "      <td>58</td>\n",
              "      <td>0</td>\n",
              "      <td>1</td>\n",
              "      <td>Personal Auto</td>\n",
              "      <td>Personal L2</td>\n",
              "      <td>Offer1</td>\n",
              "      <td>Branch</td>\n",
              "      <td>541.282007</td>\n",
              "      <td>Four-Door Car</td>\n",
              "      <td>Large</td>\n",
              "    </tr>\n",
              "    <tr>\n",
              "      <th>9129</th>\n",
              "      <td>LA72316</td>\n",
              "      <td>California</td>\n",
              "      <td>23405.987980</td>\n",
              "      <td>No</td>\n",
              "      <td>Basic</td>\n",
              "      <td>Bachelor</td>\n",
              "      <td>2/10/11</td>\n",
              "      <td>Employed</td>\n",
              "      <td>M</td>\n",
              "      <td>71941</td>\n",
              "      <td>Urban</td>\n",
              "      <td>Married</td>\n",
              "      <td>73</td>\n",
              "      <td>18</td>\n",
              "      <td>89</td>\n",
              "      <td>0</td>\n",
              "      <td>2</td>\n",
              "      <td>Personal Auto</td>\n",
              "      <td>Personal L1</td>\n",
              "      <td>Offer2</td>\n",
              "      <td>Web</td>\n",
              "      <td>198.234764</td>\n",
              "      <td>Four-Door Car</td>\n",
              "      <td>Medsize</td>\n",
              "    </tr>\n",
              "    <tr>\n",
              "      <th>9130</th>\n",
              "      <td>PK87824</td>\n",
              "      <td>California</td>\n",
              "      <td>3096.511217</td>\n",
              "      <td>Yes</td>\n",
              "      <td>Extended</td>\n",
              "      <td>College</td>\n",
              "      <td>2/12/11</td>\n",
              "      <td>Employed</td>\n",
              "      <td>F</td>\n",
              "      <td>21604</td>\n",
              "      <td>Suburban</td>\n",
              "      <td>Divorced</td>\n",
              "      <td>79</td>\n",
              "      <td>14</td>\n",
              "      <td>28</td>\n",
              "      <td>0</td>\n",
              "      <td>1</td>\n",
              "      <td>Corporate Auto</td>\n",
              "      <td>Corporate L3</td>\n",
              "      <td>Offer1</td>\n",
              "      <td>Branch</td>\n",
              "      <td>379.200000</td>\n",
              "      <td>Four-Door Car</td>\n",
              "      <td>Medsize</td>\n",
              "    </tr>\n",
              "    <tr>\n",
              "      <th>9131</th>\n",
              "      <td>TD14365</td>\n",
              "      <td>California</td>\n",
              "      <td>8163.890428</td>\n",
              "      <td>No</td>\n",
              "      <td>Extended</td>\n",
              "      <td>Bachelor</td>\n",
              "      <td>2/6/11</td>\n",
              "      <td>Unemployed</td>\n",
              "      <td>M</td>\n",
              "      <td>0</td>\n",
              "      <td>Suburban</td>\n",
              "      <td>Single</td>\n",
              "      <td>85</td>\n",
              "      <td>9</td>\n",
              "      <td>37</td>\n",
              "      <td>3</td>\n",
              "      <td>2</td>\n",
              "      <td>Corporate Auto</td>\n",
              "      <td>Corporate L2</td>\n",
              "      <td>Offer1</td>\n",
              "      <td>Branch</td>\n",
              "      <td>790.784983</td>\n",
              "      <td>Four-Door Car</td>\n",
              "      <td>Medsize</td>\n",
              "    </tr>\n",
              "    <tr>\n",
              "      <th>9132</th>\n",
              "      <td>UP19263</td>\n",
              "      <td>California</td>\n",
              "      <td>7524.442436</td>\n",
              "      <td>No</td>\n",
              "      <td>Extended</td>\n",
              "      <td>College</td>\n",
              "      <td>2/3/11</td>\n",
              "      <td>Employed</td>\n",
              "      <td>M</td>\n",
              "      <td>21941</td>\n",
              "      <td>Suburban</td>\n",
              "      <td>Married</td>\n",
              "      <td>96</td>\n",
              "      <td>34</td>\n",
              "      <td>3</td>\n",
              "      <td>0</td>\n",
              "      <td>3</td>\n",
              "      <td>Personal Auto</td>\n",
              "      <td>Personal L2</td>\n",
              "      <td>Offer3</td>\n",
              "      <td>Branch</td>\n",
              "      <td>691.200000</td>\n",
              "      <td>Four-Door Car</td>\n",
              "      <td>Large</td>\n",
              "    </tr>\n",
              "    <tr>\n",
              "      <th>9133</th>\n",
              "      <td>Y167826</td>\n",
              "      <td>California</td>\n",
              "      <td>2611.836866</td>\n",
              "      <td>No</td>\n",
              "      <td>Extended</td>\n",
              "      <td>College</td>\n",
              "      <td>2/14/11</td>\n",
              "      <td>Unemployed</td>\n",
              "      <td>M</td>\n",
              "      <td>0</td>\n",
              "      <td>Suburban</td>\n",
              "      <td>Single</td>\n",
              "      <td>77</td>\n",
              "      <td>3</td>\n",
              "      <td>90</td>\n",
              "      <td>0</td>\n",
              "      <td>1</td>\n",
              "      <td>Corporate Auto</td>\n",
              "      <td>Corporate L3</td>\n",
              "      <td>Offer4</td>\n",
              "      <td>Call Center</td>\n",
              "      <td>369.600000</td>\n",
              "      <td>Two-Door Car</td>\n",
              "      <td>Medsize</td>\n",
              "    </tr>\n",
              "  </tbody>\n",
              "</table>\n",
              "</div>"
            ],
            "text/plain": [
              "     Customer       State  ...  Vehicle Class Vehicle Size\n",
              "9124  CB59349  California  ...            SUV      Medsize\n",
              "9125  RX91025  California  ...            SUV        Small\n",
              "9126  AC13887  California  ...   Two-Door Car      Medsize\n",
              "9127  TF56202  California  ...   Two-Door Car        Small\n",
              "9128  YM19146  California  ...  Four-Door Car        Large\n",
              "9129  LA72316  California  ...  Four-Door Car      Medsize\n",
              "9130  PK87824  California  ...  Four-Door Car      Medsize\n",
              "9131  TD14365  California  ...  Four-Door Car      Medsize\n",
              "9132  UP19263  California  ...  Four-Door Car        Large\n",
              "9133  Y167826  California  ...   Two-Door Car      Medsize\n",
              "\n",
              "[10 rows x 24 columns]"
            ]
          },
          "metadata": {
            "tags": []
          }
        }
      ],
      "execution_count": 7,
      "metadata": {
        "id": "5VHnh6bAMjDD",
        "colab_type": "code",
        "colab": {
          "base_uri": "https://localhost:8080/",
          "height": 620
        },
        "outputId": "d24caf5d-a531-4079-b184-8a75f62d1cf4"
      }
    },
    {
      "cell_type": "markdown",
      "source": [
        "# 1 Modeling\n"
      ],
      "metadata": {
        "id": "DvA5NK0IMjDG",
        "colab_type": "text"
      }
    },
    {
      "cell_type": "markdown",
      "source": [
        "## 1.1 Logistic Regression\n"
      ],
      "metadata": {
        "id": "zvKLxjvmMjDG",
        "colab_type": "text"
      }
    },
    {
      "cell_type": "code",
      "source": [
        "#conduct feature transformation\n",
        "state_dummy = pd.get_dummies(df.State, prefix='state', prefix_sep='_')\n",
        "coverage_dummy = pd.get_dummies(df.Coverage, prefix='coverage', prefix_sep='_')\n",
        "education_dummy = pd.get_dummies(df.Education, prefix='education', prefix_sep='_')\n",
        "employ_dummy = pd.get_dummies(df.EmploymentStatus, prefix='employ', prefix_sep='_')\n",
        "gender_dummy = pd.get_dummies(df.Gender, prefix='gender', prefix_sep='_')\n",
        "location_dummy = pd.get_dummies(df['Location Code'], prefix='loc', prefix_sep='_')\n",
        "marital_dummy = pd.get_dummies(df['Marital Status'], prefix='marital', prefix_sep='_')\n",
        "policy_type_dummy = pd.get_dummies(df['Policy Type'], prefix='ptype', prefix_sep='_')\n",
        "policy_dummy = pd.get_dummies(df['Policy'], prefix='policy', prefix_sep='_')\n",
        "channel_dummy = pd.get_dummies(df['Sales Channel'], prefix='channel', prefix_sep='_')\n",
        "vclass_dummy = pd.get_dummies(df['Vehicle Class'], prefix='vclass', prefix_sep='_')\n",
        "vsize_dummy = pd.get_dummies(df['Vehicle Size'], prefix='vsize', prefix_sep='_')\n",
        "concat_list = [df[['Customer Lifetime Value','Income', 'Monthly Premium Auto',\\\n",
        "                         'Months Since Last Claim','Months Since Policy Inception',\\\n",
        "                         'Number of Open Complaints','Number of Policies', 'Total Claim Amount']],\\\n",
        "                      state_dummy ,coverage_dummy, education_dummy, employ_dummy, \n",
        "                      gender_dummy, location_dummy, marital_dummy, policy_type_dummy,\\\n",
        "                     policy_dummy, channel_dummy, vclass_dummy, vsize_dummy]"
      ],
      "outputs": [],
      "execution_count": 0,
      "metadata": {
        "id": "CnYcRJJMMjDH",
        "colab_type": "code",
        "colab": {}
      }
    },
    {
      "cell_type": "code",
      "source": [
        "#preparing the features and labels\n",
        "feature_df = pd.concat(concat_list,axis=1)\n",
        "feature = feature_df.values\n",
        "mapping = {'Offer2':2,'Offer1':1,'Offer3':3,'Offer4':4}\n",
        "label = df['Renew Offer Type'].apply(lambda x: mapping[x]).values"
      ],
      "outputs": [],
      "execution_count": 0,
      "metadata": {
        "id": "BnF3jq-5MjDI",
        "colab_type": "code",
        "colab": {}
      }
    },
    {
      "cell_type": "code",
      "source": [
        "#train_val_split for the model selection\n",
        "X_train, X_val, y_train, y_val = train_test_split(feature, label, test_size=0.2)"
      ],
      "outputs": [],
      "execution_count": 0,
      "metadata": {
        "id": "XjAcgaZmMjDK",
        "colab_type": "code",
        "colab": {}
      }
    },
    {
      "cell_type": "code",
      "source": [
        "#majority voting classifier\n",
        "from sklearn.multiclass import OneVsRestClassifier\n",
        "#introduce LR model\n",
        "from sklearn.linear_model import LogisticRegression\n",
        "#standardize the input space\n",
        "scaler = StandardScaler()\n",
        "scaler.fit(X_train)\n",
        "X_train_std = scaler.transform(X_train)\n",
        "X_val_std = scaler.transform(X_val)\n",
        "\n",
        "#def  fast_learn to report accuracy on the validation set of the standardized features\n",
        "def fast_learn(model):\n",
        "    \"\"\"\n",
        "    input: model class with params\n",
        "    output: the accuracy on the validation set\n",
        "    \"\"\"\n",
        "    model = OneVsRestClassifier(model)\n",
        "    model.fit(X_train_std, y_train)\n",
        "    y_pred = model.predict(X_val_std)\n",
        "    acc = np.mean(y_pred == y_val)\n",
        "    return acc\n",
        "\n",
        "#def fast_learn1 to report accuracy on the validation set of the original features\n",
        "def fast_learn1(model):\n",
        "    \"\"\"\n",
        "    input: model class with params\n",
        "    output: the accuracy on the validation set\n",
        "    \"\"\"\n",
        "    model = OneVsRestClassifier(model)\n",
        "    model.fit(X_train, y_train)\n",
        "    y_pred = model.predict(X_val)\n",
        "    acc = np.mean(y_pred == y_val)\n",
        "    return acc\n",
        "\n",
        "#output the score\n",
        "fast_learn(LogisticRegression(solver='lbfgs')), fast_learn1(LogisticRegression(solver='lbfgs'))"
      ],
      "outputs": [
        {
          "output_type": "execute_result",
          "execution_count": 11,
          "data": {
            "text/plain": [
              "(0.48877941981390255, 0.45922276956759717)"
            ]
          },
          "metadata": {
            "tags": []
          }
        }
      ],
      "execution_count": 11,
      "metadata": {
        "id": "AJoS2pxJMjDL",
        "colab_type": "code",
        "colab": {
          "base_uri": "https://localhost:8080/",
          "height": 34
        },
        "outputId": "4f3eb201-05ca-4e63-f384-c8a33f426bc2"
      }
    },
    {
      "cell_type": "markdown",
      "source": [
        "## 1.2 KNN"
      ],
      "metadata": {
        "id": "4kY8E_KCMjDN",
        "colab_type": "text"
      }
    },
    {
      "cell_type": "code",
      "source": [
        "#Hypertuning the parameters\n",
        "from sklearn.neighbors import KNeighborsClassifier\n",
        "from sklearn.model_selection import GridSearchCV\n",
        "params = {'n_neighbors': [1,2,3,4,5,6,7,8,9,10]}\n",
        "clf_knn = GridSearchCV(KNeighborsClassifier(), params, cv=5)\n",
        "\n",
        "#hypertuning for the untransformed\n",
        "clf_knn.fit(X_train, y_train)\n",
        "best_neighbor = clf_knn.best_estimator_.n_neighbors\n",
        "\n",
        "#hypertuning for the transformed\n",
        "clf_knn.fit(X_train_std, y_train)\n",
        "best_neighbor_std = clf_knn.best_estimator_.n_neighbors\n",
        "\n",
        "fast_learn(KNeighborsClassifier(best_neighbor)),       fast_learn1(KNeighborsClassifier(best_neighbor_std))"
      ],
      "outputs": [
        {
          "output_type": "execute_result",
          "execution_count": 12,
          "data": {
            "text/plain": [
              "(0.4099616858237548, 0.44608648056923916)"
            ]
          },
          "metadata": {
            "tags": []
          }
        }
      ],
      "execution_count": 12,
      "metadata": {
        "id": "1TUuNWDnMjDN",
        "colab_type": "code",
        "colab": {
          "base_uri": "https://localhost:8080/",
          "height": 34
        },
        "outputId": "f3480d62-547f-4286-a45b-d65df5388cdd"
      }
    },
    {
      "cell_type": "markdown",
      "source": [
        "## 1.3 GaussianNB\n",
        "\n"
      ],
      "metadata": {
        "id": "8ntIXb8RMjDO",
        "colab_type": "text"
      }
    },
    {
      "cell_type": "code",
      "source": [
        "from sklearn.naive_bayes import GaussianNB\n",
        "GNB = GaussianNB()\n",
        "fast_learn(GNB), fast_learn1(GNB)"
      ],
      "outputs": [
        {
          "output_type": "execute_result",
          "execution_count": 13,
          "data": {
            "text/plain": [
              "(0.41598248494800216, 0.44499178981937604)"
            ]
          },
          "metadata": {
            "tags": []
          }
        }
      ],
      "execution_count": 13,
      "metadata": {
        "id": "d9AuyXQBMjDP",
        "colab_type": "code",
        "colab": {
          "base_uri": "https://localhost:8080/",
          "height": 34
        },
        "outputId": "9626ea84-50be-44d5-b8ca-2f2cb48b79db"
      }
    },
    {
      "cell_type": "markdown",
      "source": [
        "## 1.4 Neural Networks-Perceptron"
      ],
      "metadata": {
        "id": "B-JEZAbVMjDQ",
        "colab_type": "text"
      }
    },
    {
      "cell_type": "code",
      "source": [
        "from sklearn.neural_network import MLPClassifier\n",
        "\n",
        "fast_learn(MLPClassifier()), fast_learn1(MLPClassifier())"
      ],
      "outputs": [
        {
          "output_type": "execute_result",
          "execution_count": 14,
          "data": {
            "text/plain": [
              "(0.4269293924466338, 0.2654625068418172)"
            ]
          },
          "metadata": {
            "tags": []
          }
        }
      ],
      "execution_count": 14,
      "metadata": {
        "id": "iDjJXJi3MjDQ",
        "colab_type": "code",
        "colab": {
          "base_uri": "https://localhost:8080/",
          "height": 54
        },
        "outputId": "2d218500-4597-42ad-ca6b-9328451ef14f"
      }
    },
    {
      "cell_type": "markdown",
      "source": [
        "## 1.5 SVM"
      ],
      "metadata": {
        "id": "CZhpLGINMjDS",
        "colab_type": "text"
      }
    },
    {
      "cell_type": "code",
      "source": [
        "from sklearn.svm import SVC\n",
        "params = {'gamma': [ 1,3,5]}\n",
        "clf_svc = GridSearchCV(SVC(), params, cv=5)\n",
        "\n",
        "clf_svc.fit(X_train, y_train)\n",
        "best_gamma = clf_svc.best_estimator_.gamma\n",
        "\n",
        "clf_svc.fit(X_train_std, y_train)\n",
        "best_gamma_std = clf_svc.best_estimator_.gamma\n",
        "\n",
        "fast_learn(SVC(gamma=best_gamma)), fast_learn1(SVC(gamma=best_gamma_std))"
      ],
      "outputs": [
        {
          "output_type": "execute_result",
          "execution_count": 15,
          "data": {
            "text/plain": [
              "(0.43130815544608647, 0.4307608100711549)"
            ]
          },
          "metadata": {
            "tags": []
          }
        }
      ],
      "execution_count": 15,
      "metadata": {
        "id": "NxV-UJ4hMjDS",
        "colab_type": "code",
        "colab": {
          "base_uri": "https://localhost:8080/",
          "height": 34
        },
        "outputId": "1ffe8846-2599-49da-d605-192b8ca264b4"
      }
    },
    {
      "cell_type": "markdown",
      "source": [
        "## 1.6 Decision Tree"
      ],
      "metadata": {
        "id": "vsiHnoZxMjDT",
        "colab_type": "text"
      }
    },
    {
      "cell_type": "code",
      "source": [
        "from sklearn import tree\n",
        "dt = tree.DecisionTreeClassifier()\n",
        "fast_learn(dt),  fast_learn1(dt)\n",
        "#The performance is too bad, no need to do hypertuning"
      ],
      "outputs": [
        {
          "output_type": "execute_result",
          "execution_count": 16,
          "data": {
            "text/plain": [
              "(0.34811165845648606, 0.3415435139573071)"
            ]
          },
          "metadata": {
            "tags": []
          }
        }
      ],
      "execution_count": 16,
      "metadata": {
        "id": "EWETgtCVMjDU",
        "colab_type": "code",
        "colab": {
          "base_uri": "https://localhost:8080/",
          "height": 54
        },
        "outputId": "ed0a8912-44e4-4aa6-ced8-a03e72274251"
      }
    },
    {
      "cell_type": "markdown",
      "source": [
        "## 1.7 Random Forest"
      ],
      "metadata": {
        "id": "zWI-VTPiMjDV",
        "colab_type": "text"
      }
    },
    {
      "cell_type": "code",
      "source": [
        "from sklearn.ensemble import RandomForestClassifier\n",
        "RF = RandomForestClassifier(bootstrap =True)\n",
        "fast_learn(RF), fast_learn1(RF)"
      ],
      "outputs": [
        {
          "output_type": "execute_result",
          "execution_count": 17,
          "data": {
            "text/plain": [
              "(0.48056923918992883, 0.48111658456486045)"
            ]
          },
          "metadata": {
            "tags": []
          }
        }
      ],
      "execution_count": 17,
      "metadata": {
        "scrolled": true,
        "id": "YPiM5zEjMjDV",
        "colab_type": "code",
        "colab": {
          "base_uri": "https://localhost:8080/",
          "height": 54
        },
        "outputId": "e0ff3613-9e0c-4a2a-dbc1-b14bddd8e1bd"
      }
    },
    {
      "cell_type": "markdown",
      "source": [
        "## 1.8 Gradient Boosting\n"
      ],
      "metadata": {
        "id": "N943FuCHMjDW",
        "colab_type": "text"
      }
    },
    {
      "cell_type": "code",
      "source": [
        "from sklearn.ensemble import GradientBoostingClassifier\n",
        "GB = GradientBoostingClassifier()\n",
        "fast_learn(GB), fast_learn1(GB)"
      ],
      "outputs": [
        {
          "output_type": "execute_result",
          "execution_count": 18,
          "data": {
            "text/plain": [
              "(0.5106732348111659, 0.5106732348111659)"
            ]
          },
          "metadata": {
            "tags": []
          }
        }
      ],
      "execution_count": 18,
      "metadata": {
        "id": "PCj3AdvlMjDX",
        "colab_type": "code",
        "colab": {
          "base_uri": "https://localhost:8080/",
          "height": 34
        },
        "outputId": "ce28b1dc-0067-4272-f653-8b344c450b90"
      }
    },
    {
      "cell_type": "markdown",
      "source": [
        "## 1.9 Deep Learning Trial-CNN"
      ],
      "metadata": {
        "id": "Fm9BfZ0nMjDY",
        "colab_type": "text"
      }
    },
    {
      "cell_type": "code",
      "source": [
        "from tensorflow import keras\n",
        "\n",
        "y_train_dummy = pd.get_dummies(df['Renew Offer Type'])\n",
        "\n",
        "model1 = keras.Sequential([\n",
        "    keras.layers.Conv1D(32, 16, input_shape=(59,1), activation='relu', padding='same'),\n",
        "    #keras.layers.AveragePooling1D(pool_size=),\n",
        "    keras.layers.Dropout(0.3),\n",
        "    keras.layers.Conv1D(32, 16, activation='relu', padding='same'),\n",
        "    #keras.layers.AveragePooling1D(pool_size=2),\n",
        "    keras.layers.Dropout(0.3),\n",
        "    \n",
        "    keras.layers.Flatten(),\n",
        "    keras.layers.Dense(5, activation='softmax')\n",
        "                            ])   "
      ],
      "outputs": [
        {
          "output_type": "display_data",
          "data": {
            "text/html": [
              "<p style=\"color: red;\">\n",
              "The default version of TensorFlow in Colab will soon switch to TensorFlow 2.x.<br>\n",
              "We recommend you <a href=\"https://www.tensorflow.org/guide/migrate\" target=\"_blank\">upgrade</a> now \n",
              "or ensure your notebook will continue to use TensorFlow 1.x via the <code>%tensorflow_version 1.x</code> magic:\n",
              "<a href=\"https://colab.research.google.com/notebooks/tensorflow_version.ipynb\" target=\"_blank\">more info</a>.</p>\n"
            ],
            "text/plain": [
              "<IPython.core.display.HTML object>"
            ]
          },
          "metadata": {
            "tags": []
          }
        },
        {
          "output_type": "stream",
          "name": "stdout",
          "text": [
            "WARNING:tensorflow:From /usr/local/lib/python3.6/dist-packages/tensorflow_core/python/ops/resource_variable_ops.py:1630: calling BaseResourceVariable.__init__ (from tensorflow.python.ops.resource_variable_ops) with constraint is deprecated and will be removed in a future version.\n",
            "Instructions for updating:\n",
            "If using Keras pass *_constraint arguments to layers.\n"
          ]
        }
      ],
      "execution_count": 19,
      "metadata": {
        "id": "SET9E4H6MjDZ",
        "colab_type": "code",
        "colab": {
          "base_uri": "https://localhost:8080/",
          "height": 134
        },
        "outputId": "543ff33b-9783-46de-ca11-9ef608e90721"
      }
    },
    {
      "cell_type": "code",
      "source": [
        "model1.compile(optimizer='adam', loss='sparse_categorical_crossentropy', metrics=['accuracy'])\n",
        "model1.summary()\n",
        "model1.fit(X_train.reshape(7307,59,1), y_train)"
      ],
      "outputs": [
        {
          "output_type": "stream",
          "name": "stdout",
          "text": [
            "Model: \"sequential\"\n",
            "_________________________________________________________________\n",
            "Layer (type)                 Output Shape              Param #   \n",
            "=================================================================\n",
            "conv1d (Conv1D)              (None, 59, 32)            544       \n",
            "_________________________________________________________________\n",
            "dropout (Dropout)            (None, 59, 32)            0         \n",
            "_________________________________________________________________\n",
            "conv1d_1 (Conv1D)            (None, 59, 32)            16416     \n",
            "_________________________________________________________________\n",
            "dropout_1 (Dropout)          (None, 59, 32)            0         \n",
            "_________________________________________________________________\n",
            "flatten (Flatten)            (None, 1888)              0         \n",
            "_________________________________________________________________\n",
            "dense (Dense)                (None, 5)                 9445      \n",
            "=================================================================\n",
            "Total params: 26,405\n",
            "Trainable params: 26,405\n",
            "Non-trainable params: 0\n",
            "_________________________________________________________________\n",
            "Train on 7307 samples\n",
            "7307/7307 [==============================] - 3s 469us/sample - loss: 109.9111 - acc: 0.3107\n"
          ]
        },
        {
          "output_type": "execute_result",
          "execution_count": 20,
          "data": {
            "text/plain": [
              "<tensorflow.python.keras.callbacks.History at 0x7f93174ab7b8>"
            ]
          },
          "metadata": {
            "tags": []
          }
        }
      ],
      "execution_count": 20,
      "metadata": {
        "id": "abGY9vFCMjDa",
        "colab_type": "code",
        "colab": {
          "base_uri": "https://localhost:8080/",
          "height": 408
        },
        "outputId": "f40538cd-cf84-4dc2-c226-72507992962e"
      }
    },
    {
      "cell_type": "code",
      "source": [
        "model1.fit(X_train_std.reshape(7307,59,1), y_train)"
      ],
      "outputs": [
        {
          "output_type": "stream",
          "name": "stdout",
          "text": [
            "Train on 7307 samples\n",
            "7307/7307 [==============================] - 3s 411us/sample - loss: 1.4063 - acc: 0.4191\n"
          ]
        },
        {
          "output_type": "execute_result",
          "execution_count": 21,
          "data": {
            "text/plain": [
              "<tensorflow.python.keras.callbacks.History at 0x7f934f405c88>"
            ]
          },
          "metadata": {
            "tags": []
          }
        }
      ],
      "execution_count": 21,
      "metadata": {
        "id": "aVs0ojR_MjDc",
        "colab_type": "code",
        "colab": {
          "base_uri": "https://localhost:8080/",
          "height": 68
        },
        "outputId": "b0c1403e-d4fa-47e4-a89f-41e88383d46d"
      }
    },
    {
      "cell_type": "markdown",
      "source": [
        "# 1.10 Deep Learning Trial-DNN"
      ],
      "metadata": {
        "id": "PDyz_lgIMjDd",
        "colab_type": "text"
      }
    },
    {
      "cell_type": "code",
      "source": [
        "from tensorflow.keras.utils import to_categorical\n",
        "y_train_binary = to_categorical(y_train)\n",
        "y_val_binary = to_categorical(y_val)"
      ],
      "outputs": [],
      "execution_count": 0,
      "metadata": {
        "id": "JMeGzjsjMjDd",
        "colab_type": "code",
        "colab": {}
      }
    },
    {
      "cell_type": "code",
      "source": [
        "from keras.layers import Input, Dense\n",
        "from keras.models import Model\n",
        "\n",
        "# This returns a tensor\n",
        "inputs = Input(shape=(59,))\n",
        "\n",
        "# a layer instance is callable on a tensor, and returns a tensor\n",
        "output_1 = Dense(128, activation='relu')(inputs)\n",
        "output_2 = Dense(128, activation='relu')(output_1)\n",
        "predictions = Dense(5, activation='softmax')(output_2)\n",
        "\n",
        "# This creates a model that includes\n",
        "# the Input layer and three Dense layers\n",
        "model = Model(inputs=inputs, outputs=predictions)\n",
        "model.compile(optimizer='adam',\n",
        "              loss='categorical_crossentropy',\n",
        "              metrics=['accuracy'])\n",
        "model.fit(X_train_std, y_train_binary)  # training with standardization"
      ],
      "outputs": [
        {
          "output_type": "stream",
          "name": "stdout",
          "text": [
            "WARNING:tensorflow:From /usr/local/lib/python3.6/dist-packages/keras/backend/tensorflow_backend.py:66: The name tf.get_default_graph is deprecated. Please use tf.compat.v1.get_default_graph instead.\n",
            "\n",
            "WARNING:tensorflow:From /usr/local/lib/python3.6/dist-packages/keras/backend/tensorflow_backend.py:541: The name tf.placeholder is deprecated. Please use tf.compat.v1.placeholder instead.\n",
            "\n",
            "WARNING:tensorflow:From /usr/local/lib/python3.6/dist-packages/keras/backend/tensorflow_backend.py:4432: The name tf.random_uniform is deprecated. Please use tf.random.uniform instead.\n",
            "\n",
            "WARNING:tensorflow:From /usr/local/lib/python3.6/dist-packages/keras/optimizers.py:793: The name tf.train.Optimizer is deprecated. Please use tf.compat.v1.train.Optimizer instead.\n",
            "\n",
            "WARNING:tensorflow:From /usr/local/lib/python3.6/dist-packages/keras/backend/tensorflow_backend.py:3576: The name tf.log is deprecated. Please use tf.math.log instead.\n",
            "\n"
          ]
        },
        {
          "output_type": "stream",
          "name": "stderr",
          "text": [
            "Using TensorFlow backend.\n"
          ]
        },
        {
          "output_type": "stream",
          "name": "stdout",
          "text": [
            "WARNING:tensorflow:From /usr/local/lib/python3.6/dist-packages/tensorflow_core/python/ops/math_grad.py:1424: where (from tensorflow.python.ops.array_ops) is deprecated and will be removed in a future version.\n",
            "Instructions for updating:\n",
            "Use tf.where in 2.0, which has the same broadcast rule as np.where\n",
            "WARNING:tensorflow:From /usr/local/lib/python3.6/dist-packages/keras/backend/tensorflow_backend.py:1033: The name tf.assign_add is deprecated. Please use tf.compat.v1.assign_add instead.\n",
            "\n",
            "WARNING:tensorflow:From /usr/local/lib/python3.6/dist-packages/keras/backend/tensorflow_backend.py:1020: The name tf.assign is deprecated. Please use tf.compat.v1.assign instead.\n",
            "\n",
            "WARNING:tensorflow:From /usr/local/lib/python3.6/dist-packages/keras/backend/tensorflow_backend.py:3005: The name tf.Session is deprecated. Please use tf.compat.v1.Session instead.\n",
            "\n",
            "Epoch 1/1\n",
            "WARNING:tensorflow:From /usr/local/lib/python3.6/dist-packages/keras/backend/tensorflow_backend.py:190: The name tf.get_default_session is deprecated. Please use tf.compat.v1.get_default_session instead.\n",
            "\n",
            "WARNING:tensorflow:From /usr/local/lib/python3.6/dist-packages/keras/backend/tensorflow_backend.py:197: The name tf.ConfigProto is deprecated. Please use tf.compat.v1.ConfigProto instead.\n",
            "\n",
            "WARNING:tensorflow:From /usr/local/lib/python3.6/dist-packages/keras/backend/tensorflow_backend.py:207: The name tf.global_variables is deprecated. Please use tf.compat.v1.global_variables instead.\n",
            "\n",
            "WARNING:tensorflow:From /usr/local/lib/python3.6/dist-packages/keras/backend/tensorflow_backend.py:216: The name tf.is_variable_initialized is deprecated. Please use tf.compat.v1.is_variable_initialized instead.\n",
            "\n",
            "WARNING:tensorflow:From /usr/local/lib/python3.6/dist-packages/keras/backend/tensorflow_backend.py:223: The name tf.variables_initializer is deprecated. Please use tf.compat.v1.variables_initializer instead.\n",
            "\n",
            "7307/7307 [==============================] - 1s 96us/step - loss: 1.2439 - acc: 0.4735\n"
          ]
        },
        {
          "output_type": "execute_result",
          "execution_count": 23,
          "data": {
            "text/plain": [
              "<keras.callbacks.History at 0x7f9310aab208>"
            ]
          },
          "metadata": {
            "tags": []
          }
        }
      ],
      "execution_count": 23,
      "metadata": {
        "id": "Z3c3S7oPMjDe",
        "colab_type": "code",
        "colab": {
          "base_uri": "https://localhost:8080/",
          "height": 644
        },
        "outputId": "9789f8c4-f139-45c1-9482-6a79e5026e27"
      }
    },
    {
      "cell_type": "code",
      "source": [
        "#fit without transformation\n",
        "model.fit(X_train, y_train_binary)"
      ],
      "outputs": [
        {
          "output_type": "stream",
          "name": "stdout",
          "text": [
            "Epoch 1/1\n",
            "7307/7307 [==============================] - 0s 47us/step - loss: 10.7296 - acc: 0.3342\n"
          ]
        },
        {
          "output_type": "execute_result",
          "execution_count": 24,
          "data": {
            "text/plain": [
              "<keras.callbacks.History at 0x7f931738b630>"
            ]
          },
          "metadata": {
            "tags": []
          }
        }
      ],
      "execution_count": 24,
      "metadata": {
        "id": "cVnA1V8yMjDf",
        "colab_type": "code",
        "colab": {
          "base_uri": "https://localhost:8080/",
          "height": 68
        },
        "outputId": "fc1d98a7-ddf9-4e85-f6a5-818a5ac16817"
      }
    },
    {
      "cell_type": "markdown",
      "source": [
        "## 2 Probabilistic Model"
      ],
      "metadata": {
        "id": "f7RW2VOmMjDg",
        "colab_type": "text"
      }
    },
    {
      "cell_type": "markdown",
      "source": [
        "## 2.1 Explanation of the poor accuracy  \n",
        "Here, we do not care about the accuracies of models since the decision process the car insurance company is not fixed on customers' given features. Thus, we hope to find a model which can **mimic the decision process**. Probabilistic models are good candidates and multiclass logistic regression model is a good choice since it can not only provide us with the probabilities but also offer us the flexibility to adjust the weights.  \n",
        "\n",
        "The main steps are as follows.\n",
        "* Use the multinomial logistic regression to trian the model after we have done the transformation;\n",
        "* Use the BIC criteria and forward selection algorithm to select the best model and give our explanation and business recommendation."
      ],
      "metadata": {
        "id": "3ol_Q8vSMjDi",
        "colab_type": "text"
      }
    },
    {
      "cell_type": "code",
      "source": [
        "#reconsider the distribution of ys\n",
        "ys = pd.Series(label).value_counts()\n",
        "plt.figure(dpi=100)\n",
        "plt.bar(ys.index, ys.values)\n",
        "plt.show()\n",
        "#it's not a imbalance dataset"
      ],
      "outputs": [
        {
          "output_type": "display_data",
          "data": {
            "image/png": "[encoded data removed]",
            "text/plain": [
              "<Figure size 600x400 with 1 Axes>"
            ]
          },
          "metadata": {
            "tags": []
          }
        }
      ],
      "execution_count": 25,
      "metadata": {
        "id": "TVVoYqfaMjDi",
        "colab_type": "code",
        "colab": {
          "base_uri": "https://localhost:8080/",
          "height": 382
        },
        "outputId": "bf9f4e94-e55c-4f93-a39f-7e670ec3c9c9"
      }
    },
    {
      "cell_type": "code",
      "source": [
        "X = df.drop(columns=['Customer','Response'])"
      ],
      "outputs": [],
      "execution_count": 0,
      "metadata": {
        "id": "rJH8mxlPMjDj",
        "colab_type": "code",
        "colab": {}
      }
    },
    {
      "cell_type": "code",
      "source": [
        "X.info()"
      ],
      "outputs": [
        {
          "output_type": "stream",
          "name": "stdout",
          "text": [
            "<class 'pandas.core.frame.DataFrame'>\n",
            "RangeIndex: 9134 entries, 0 to 9133\n",
            "Data columns (total 22 columns):\n",
            "State                            9134 non-null object\n",
            "Customer Lifetime Value          9134 non-null float64\n",
            "Coverage                         9134 non-null object\n",
            "Education                        9134 non-null object\n",
            "Effective To Date                9134 non-null object\n",
            "EmploymentStatus                 9134 non-null object\n",
            "Gender                           9134 non-null object\n",
            "Income                           9134 non-null int64\n",
            "Location Code                    9134 non-null object\n",
            "Marital Status                   9134 non-null object\n",
            "Monthly Premium Auto             9134 non-null int64\n",
            "Months Since Last Claim          9134 non-null int64\n",
            "Months Since Policy Inception    9134 non-null int64\n",
            "Number of Open Complaints        9134 non-null int64\n",
            "Number of Policies               9134 non-null int64\n",
            "Policy Type                      9134 non-null object\n",
            "Policy                           9134 non-null object\n",
            "Renew Offer Type                 9134 non-null object\n",
            "Sales Channel                    9134 non-null object\n",
            "Total Claim Amount               9134 non-null float64\n",
            "Vehicle Class                    9134 non-null object\n",
            "Vehicle Size                     9134 non-null object\n",
            "dtypes: float64(2), int64(6), object(14)\n",
            "memory usage: 1.5+ MB\n"
          ]
        }
      ],
      "execution_count": 27,
      "metadata": {
        "id": "z36AgE89MjDk",
        "colab_type": "code",
        "colab": {
          "base_uri": "https://localhost:8080/",
          "height": 496
        },
        "outputId": "e35462ea-4d90-4d7c-9ce1-7ff5a4151333"
      }
    },
    {
      "cell_type": "markdown",
      "source": [
        "## 2.2 Possible influence of features in first layer\n",
        "Based on the input features, we can use statsmodels mnlogit to fit the probabilities, which is a R-like model. Thus, we iterately analyze the characteristics of the features and decide whether to perform transformation or not"
      ],
      "metadata": {
        "id": "8KqnUZyUMjDl",
        "colab_type": "text"
      }
    },
    {
      "cell_type": "code",
      "source": [
        "#state，where customers are from\n",
        "X['State'].value_counts()\n",
        "#the distribution of the 5 categories are balanced"
      ],
      "outputs": [
        {
          "output_type": "execute_result",
          "execution_count": 28,
          "data": {
            "text/plain": [
              "California    3150\n",
              "Oregon        2601\n",
              "Arizona       1703\n",
              "Nevada         882\n",
              "Washington     798\n",
              "Name: State, dtype: int64"
            ]
          },
          "metadata": {
            "tags": []
          }
        }
      ],
      "execution_count": 28,
      "metadata": {
        "id": "01VFcj7YMjDl",
        "colab_type": "code",
        "colab": {
          "base_uri": "https://localhost:8080/",
          "height": 139
        },
        "outputId": "0fd1b6a2-a1a8-4d10-ff1d-a5320c06a963"
      }
    },
    {
      "cell_type": "code",
      "source": [
        "#customer lifetime value, the value brought by the customer\n",
        "X['Customer Lifetime Value'].hist()\n",
        "plt.show()\n",
        "X['Customer Lifetime Value'].apply(lambda x: np.log(x)).hist()\n",
        "plt.show()"
      ],
      "outputs": [
        {
          "output_type": "display_data",
          "data": {
            "image/png": "[encoded data removed]",
            "text/plain": [
              "<Figure size 432x288 with 1 Axes>"
            ]
          },
          "metadata": {
            "tags": []
          }
        },
        {
          "output_type": "display_data",
          "data": {
            "image/png": "[encoded data removed]",
            "text/plain": [
              "<Figure size 432x288 with 1 Axes>"
            ]
          },
          "metadata": {
            "tags": []
          }
        }
      ],
      "execution_count": 29,
      "metadata": {
        "id": "c9WfJyC4MjDm",
        "colab_type": "code",
        "colab": {
          "base_uri": "https://localhost:8080/",
          "height": 533
        },
        "outputId": "25f58129-3038-49c7-9268-8e900467b680"
      }
    },
    {
      "cell_type": "code",
      "source": [
        "#coverage, what accidents are covered\n",
        "X['Coverage'].value_counts()\n",
        "#3 categories, mainly basics"
      ],
      "outputs": [
        {
          "output_type": "execute_result",
          "execution_count": 30,
          "data": {
            "text/plain": [
              "Basic       5568\n",
              "Extended    2742\n",
              "Premium      824\n",
              "Name: Coverage, dtype: int64"
            ]
          },
          "metadata": {
            "tags": []
          }
        }
      ],
      "execution_count": 30,
      "metadata": {
        "id": "riHfKmCkMjDn",
        "colab_type": "code",
        "colab": {
          "base_uri": "https://localhost:8080/",
          "height": 105
        },
        "outputId": "894f39d0-72d5-47e9-9787-0d609b7ee674"
      }
    },
    {
      "cell_type": "code",
      "source": [
        "#Education, what education levels are received of the customers\n",
        "X['Education'].value_counts()\n",
        "#5 categrories and the distribution is in line with the real situation"
      ],
      "outputs": [
        {
          "output_type": "execute_result",
          "execution_count": 31,
          "data": {
            "text/plain": [
              "Bachelor                2748\n",
              "College                 2681\n",
              "High School or Below    2622\n",
              "Master                   741\n",
              "Doctor                   342\n",
              "Name: Education, dtype: int64"
            ]
          },
          "metadata": {
            "tags": []
          }
        }
      ],
      "execution_count": 31,
      "metadata": {
        "id": "unnUc23GMjDo",
        "colab_type": "code",
        "colab": {
          "base_uri": "https://localhost:8080/",
          "height": 139
        },
        "outputId": "e29d93d6-8c7a-4051-a565-6b41ae4511c8"
      }
    },
    {
      "cell_type": "code",
      "source": [
        "#Effective to date, the expire date\n",
        "X['Effective To Date'].value_counts()\n",
        "#we will drop this column since the information is not useful"
      ],
      "outputs": [
        {
          "output_type": "execute_result",
          "execution_count": 32,
          "data": {
            "text/plain": [
              "1/10/11    195\n",
              "1/27/11    194\n",
              "2/14/11    186\n",
              "1/26/11    181\n",
              "1/17/11    180\n",
              "1/19/11    179\n",
              "1/3/11     178\n",
              "1/31/11    178\n",
              "1/20/11    173\n",
              "2/26/11    169\n",
              "1/28/11    169\n",
              "2/19/11    168\n",
              "1/5/11     167\n",
              "2/27/11    167\n",
              "1/11/11    166\n",
              "2/4/11     164\n",
              "2/28/11    161\n",
              "2/10/11    161\n",
              "1/2/11     160\n",
              "1/21/11    160\n",
              "1/29/11    160\n",
              "2/22/11    158\n",
              "2/3/11     158\n",
              "2/5/11     158\n",
              "2/7/11     157\n",
              "2/12/11    156\n",
              "1/23/11    155\n",
              "1/18/11    154\n",
              "2/1/11     154\n",
              "1/15/11    153\n",
              "1/14/11    152\n",
              "1/25/11    151\n",
              "1/7/11     151\n",
              "2/11/11    151\n",
              "2/18/11    149\n",
              "2/2/11     149\n",
              "2/25/11    149\n",
              "1/8/11     149\n",
              "2/21/11    148\n",
              "1/1/11     148\n",
              "1/24/11    147\n",
              "1/9/11     146\n",
              "1/13/11    145\n",
              "1/30/11    145\n",
              "2/6/11     144\n",
              "1/6/11     143\n",
              "2/23/11    143\n",
              "1/16/11    142\n",
              "2/24/11    139\n",
              "2/16/11    139\n",
              "2/13/11    139\n",
              "2/9/11     137\n",
              "2/17/11    136\n",
              "1/22/11    136\n",
              "2/8/11     134\n",
              "2/20/11    132\n",
              "2/15/11    130\n",
              "1/12/11    126\n",
              "1/4/11     115\n",
              "Name: Effective To Date, dtype: int64"
            ]
          },
          "metadata": {
            "tags": []
          }
        }
      ],
      "execution_count": 32,
      "metadata": {
        "id": "9_0mxIk0MjDp",
        "colab_type": "code",
        "colab": {
          "base_uri": "https://localhost:8080/",
          "height": 1000
        },
        "outputId": "534dd08f-943b-422b-8ba5-93bcb23558a6"
      }
    },
    {
      "cell_type": "code",
      "source": [
        "X['EmploymentStatus'].value_counts()\n",
        "#5 categories; most people are employed"
      ],
      "outputs": [
        {
          "output_type": "execute_result",
          "execution_count": 33,
          "data": {
            "text/plain": [
              "Employed         5698\n",
              "Unemployed       2317\n",
              "Medical Leave     432\n",
              "Disabled          405\n",
              "Retired           282\n",
              "Name: EmploymentStatus, dtype: int64"
            ]
          },
          "metadata": {
            "tags": []
          }
        }
      ],
      "execution_count": 33,
      "metadata": {
        "id": "Y38BPO3sMjDq",
        "colab_type": "code",
        "colab": {
          "base_uri": "https://localhost:8080/",
          "height": 139
        },
        "outputId": "370d5710-a118-4911-b022-b6f72c6e32f6"
      }
    },
    {
      "cell_type": "code",
      "source": [
        "X['Gender'].value_counts()\n",
        "#Males is slightly more that females"
      ],
      "outputs": [
        {
          "output_type": "execute_result",
          "execution_count": 34,
          "data": {
            "text/plain": [
              "F    4658\n",
              "M    4476\n",
              "Name: Gender, dtype: int64"
            ]
          },
          "metadata": {
            "tags": []
          }
        }
      ],
      "execution_count": 34,
      "metadata": {
        "id": "nveZXe9UMjDr",
        "colab_type": "code",
        "colab": {
          "base_uri": "https://localhost:8080/",
          "height": 88
        },
        "outputId": "65025c73-9ec8-40d5-e378-b1c98bf890b2"
      }
    },
    {
      "cell_type": "code",
      "source": [
        "X['Income'].hist()\n",
        "#The income is to some extent balanced, not a tailed distribution"
      ],
      "outputs": [
        {
          "output_type": "execute_result",
          "execution_count": 35,
          "data": {
            "text/plain": [
              "<matplotlib.axes._subplots.AxesSubplot at 0x7f930faff860>"
            ]
          },
          "metadata": {
            "tags": []
          }
        },
        {
          "output_type": "display_data",
          "data": {
            "image/png": "[encoded data removed]",
            "text/plain": [
              "<Figure size 432x288 with 1 Axes>"
            ]
          },
          "metadata": {
            "tags": []
          }
        }
      ],
      "execution_count": 35,
      "metadata": {
        "id": "KH0NS6REMjDs",
        "colab_type": "code",
        "colab": {
          "base_uri": "https://localhost:8080/",
          "height": 302
        },
        "outputId": "58def175-9ed9-46a5-baa0-17bc4511ad1a"
      }
    },
    {
      "cell_type": "code",
      "source": [
        "X['Location Code'].value_counts()\n",
        "#3 categories; "
      ],
      "outputs": [
        {
          "output_type": "execute_result",
          "execution_count": 36,
          "data": {
            "text/plain": [
              "Suburban    5779\n",
              "Rural       1773\n",
              "Urban       1582\n",
              "Name: Location Code, dtype: int64"
            ]
          },
          "metadata": {
            "tags": []
          }
        }
      ],
      "execution_count": 36,
      "metadata": {
        "id": "69EOWMJbMjDt",
        "colab_type": "code",
        "colab": {
          "base_uri": "https://localhost:8080/",
          "height": 105
        },
        "outputId": "7a0e998b-04ea-40c2-88a0-7df1a4581689"
      }
    },
    {
      "cell_type": "code",
      "source": [
        "X['Marital Status'].value_counts()\n",
        "#3 categories"
      ],
      "outputs": [
        {
          "output_type": "execute_result",
          "execution_count": 37,
          "data": {
            "text/plain": [
              "Married     5298\n",
              "Single      2467\n",
              "Divorced    1369\n",
              "Name: Marital Status, dtype: int64"
            ]
          },
          "metadata": {
            "tags": []
          }
        }
      ],
      "execution_count": 37,
      "metadata": {
        "id": "LZWYBA6hMjDu",
        "colab_type": "code",
        "colab": {
          "base_uri": "https://localhost:8080/",
          "height": 105
        },
        "outputId": "c22edc6c-500d-4aea-813c-c075d0c44095"
      }
    },
    {
      "cell_type": "code",
      "source": [
        "X['Monthly Premium Auto'].hist()\n",
        "plt.show()\n",
        "X['Monthly Premium Auto'].apply(lambda x: np.log(x)).hist()\n",
        "plt.show()\n",
        "#tailed, we need to conduct log transformation"
      ],
      "outputs": [
        {
          "output_type": "display_data",
          "data": {
            "image/png": "[encoded data removed]",
            "text/plain": [
              "<Figure size 432x288 with 1 Axes>"
            ]
          },
          "metadata": {
            "tags": []
          }
        },
        {
          "output_type": "display_data",
          "data": {
            "image/png": "[encoded data removed]",
            "text/plain": [
              "<Figure size 432x288 with 1 Axes>"
            ]
          },
          "metadata": {
            "tags": []
          }
        }
      ],
      "execution_count": 38,
      "metadata": {
        "id": "knss34NZMjDv",
        "colab_type": "code",
        "colab": {
          "base_uri": "https://localhost:8080/",
          "height": 533
        },
        "outputId": "8219bf22-7dd8-4f70-f23e-3f093db0103b"
      }
    },
    {
      "cell_type": "code",
      "source": [
        "X['Months Since Last Claim'].hist()\n",
        "#balanced distribution"
      ],
      "outputs": [
        {
          "output_type": "execute_result",
          "execution_count": 39,
          "data": {
            "text/plain": [
              "<matplotlib.axes._subplots.AxesSubplot at 0x7f930fa79fd0>"
            ]
          },
          "metadata": {
            "tags": []
          }
        },
        {
          "output_type": "display_data",
          "data": {
            "image/png": "[encoded data removed]",
            "text/plain": [
              "<Figure size 432x288 with 1 Axes>"
            ]
          },
          "metadata": {
            "tags": []
          }
        }
      ],
      "execution_count": 39,
      "metadata": {
        "id": "krRmglUrMjDw",
        "colab_type": "code",
        "colab": {
          "base_uri": "https://localhost:8080/",
          "height": 302
        },
        "outputId": "281154e8-7b48-4523-8d31-cc1d5f2a1575"
      }
    },
    {
      "cell_type": "code",
      "source": [
        "X['Months Since Policy Inception'].hist()\n",
        "#balanced distribution"
      ],
      "outputs": [
        {
          "output_type": "execute_result",
          "execution_count": 40,
          "data": {
            "text/plain": [
              "<matplotlib.axes._subplots.AxesSubplot at 0x7f930fbb02e8>"
            ]
          },
          "metadata": {
            "tags": []
          }
        },
        {
          "output_type": "display_data",
          "data": {
            "image/png": "[encoded data removed]",
            "text/plain": [
              "<Figure size 432x288 with 1 Axes>"
            ]
          },
          "metadata": {
            "tags": []
          }
        }
      ],
      "execution_count": 40,
      "metadata": {
        "id": "pqKUEXo7MjDx",
        "colab_type": "code",
        "colab": {
          "base_uri": "https://localhost:8080/",
          "height": 302
        },
        "outputId": "b02fe391-7b29-4864-a503-83ac322634de"
      }
    },
    {
      "cell_type": "code",
      "source": [
        "X['Number of Open Complaints'].hist()\n",
        "#almost no complaints"
      ],
      "outputs": [
        {
          "output_type": "execute_result",
          "execution_count": 41,
          "data": {
            "text/plain": [
              "<matplotlib.axes._subplots.AxesSubplot at 0x7f930fac3860>"
            ]
          },
          "metadata": {
            "tags": []
          }
        },
        {
          "output_type": "display_data",
          "data": {
            "image/png": "[encoded data removed]",
            "text/plain": [
              "<Figure size 432x288 with 1 Axes>"
            ]
          },
          "metadata": {
            "tags": []
          }
        }
      ],
      "execution_count": 41,
      "metadata": {
        "id": "AA7Pb6GfMjDy",
        "colab_type": "code",
        "colab": {
          "base_uri": "https://localhost:8080/",
          "height": 302
        },
        "outputId": "4444414f-0194-49a6-bfac-2342e57077de"
      }
    },
    {
      "cell_type": "code",
      "source": [
        "X['Number of Policies'].hist()\n",
        "plt.show()\n",
        "#trivial column; we choose to drop it"
      ],
      "outputs": [
        {
          "output_type": "display_data",
          "data": {
            "image/png": "[encoded data removed]",
            "text/plain": [
              "<Figure size 432x288 with 1 Axes>"
            ]
          },
          "metadata": {
            "tags": []
          }
        }
      ],
      "execution_count": 42,
      "metadata": {
        "id": "5_mwU3cPMjDz",
        "colab_type": "code",
        "colab": {
          "base_uri": "https://localhost:8080/",
          "height": 285
        },
        "outputId": "6b8aa08f-5b6c-458a-e4df-01c3394dd6a5"
      }
    },
    {
      "cell_type": "code",
      "source": [
        "X['Policy Type'].value_counts()"
      ],
      "outputs": [
        {
          "output_type": "execute_result",
          "execution_count": 43,
          "data": {
            "text/plain": [
              "Personal Auto     6788\n",
              "Corporate Auto    1968\n",
              "Special Auto       378\n",
              "Name: Policy Type, dtype: int64"
            ]
          },
          "metadata": {
            "tags": []
          }
        }
      ],
      "execution_count": 43,
      "metadata": {
        "id": "uyCvX5-yMjDz",
        "colab_type": "code",
        "colab": {
          "base_uri": "https://localhost:8080/",
          "height": 105
        },
        "outputId": "a6679842-91d7-4ee1-e9e1-d51537b378e6"
      }
    },
    {
      "cell_type": "code",
      "source": [
        "X['Policy'].value_counts()\n",
        "#The policy column contains all information of the policy type column/"
      ],
      "outputs": [
        {
          "output_type": "execute_result",
          "execution_count": 44,
          "data": {
            "text/plain": [
              "Personal L3     3426\n",
              "Personal L2     2122\n",
              "Personal L1     1240\n",
              "Corporate L3    1014\n",
              "Corporate L2     595\n",
              "Corporate L1     359\n",
              "Special L2       164\n",
              "Special L3       148\n",
              "Special L1        66\n",
              "Name: Policy, dtype: int64"
            ]
          },
          "metadata": {
            "tags": []
          }
        }
      ],
      "execution_count": 44,
      "metadata": {
        "id": "e549cqibMjD0",
        "colab_type": "code",
        "colab": {
          "base_uri": "https://localhost:8080/",
          "height": 207
        },
        "outputId": "d3519c7b-0ed8-4342-f71c-f99592dc6dce"
      }
    },
    {
      "cell_type": "code",
      "source": [
        "X['Sales Channel'].value_counts()\n",
        "#4 sales channels"
      ],
      "outputs": [
        {
          "output_type": "execute_result",
          "execution_count": 45,
          "data": {
            "text/plain": [
              "Agent          3477\n",
              "Branch         2567\n",
              "Call Center    1765\n",
              "Web            1325\n",
              "Name: Sales Channel, dtype: int64"
            ]
          },
          "metadata": {
            "tags": []
          }
        }
      ],
      "execution_count": 45,
      "metadata": {
        "id": "cZZrW-6GMjD1",
        "colab_type": "code",
        "colab": {
          "base_uri": "https://localhost:8080/",
          "height": 122
        },
        "outputId": "3b733bb5-40e8-4b2f-cd94-711342fdaef4"
      }
    },
    {
      "cell_type": "code",
      "source": [
        "X['Total Claim Amount'].hist()\n",
        "plt.show()\n",
        "X['Total Claim Amount'].apply(lambda x: np.log(x)).hist()\n",
        "plt.show()\n",
        "#the distribution is tailed; after transformation, we add 1 to the distribution since there are negative values."
      ],
      "outputs": [
        {
          "output_type": "display_data",
          "data": {
            "image/png": "[encoded data removed]",
            "text/plain": [
              "<Figure size 432x288 with 1 Axes>"
            ]
          },
          "metadata": {
            "tags": []
          }
        },
        {
          "output_type": "display_data",
          "data": {
            "image/png": "[encoded data removed]",
            "text/plain": [
              "<Figure size 432x288 with 1 Axes>"
            ]
          },
          "metadata": {
            "tags": []
          }
        }
      ],
      "execution_count": 46,
      "metadata": {
        "id": "NZAkZQamMjD2",
        "colab_type": "code",
        "colab": {
          "base_uri": "https://localhost:8080/",
          "height": 533
        },
        "outputId": "7b864cf6-37aa-4e09-fd81-ac3ee160aad8"
      }
    },
    {
      "cell_type": "code",
      "source": [
        "X['Vehicle Class'].value_counts()\n",
        "#6 categories"
      ],
      "outputs": [
        {
          "output_type": "execute_result",
          "execution_count": 47,
          "data": {
            "text/plain": [
              "Four-Door Car    4621\n",
              "Two-Door Car     1886\n",
              "SUV              1796\n",
              "Sports Car        484\n",
              "Luxury SUV        184\n",
              "Luxury Car        163\n",
              "Name: Vehicle Class, dtype: int64"
            ]
          },
          "metadata": {
            "tags": []
          }
        }
      ],
      "execution_count": 47,
      "metadata": {
        "id": "37E2eNxuMjD3",
        "colab_type": "code",
        "colab": {
          "base_uri": "https://localhost:8080/",
          "height": 156
        },
        "outputId": "89d847c6-8c2f-4c64-f9ba-a3d86841d92e"
      }
    },
    {
      "cell_type": "code",
      "source": [
        "X['Vehicle Size'].value_counts()\n",
        "#3 categories"
      ],
      "outputs": [
        {
          "output_type": "execute_result",
          "execution_count": 48,
          "data": {
            "text/plain": [
              "Medsize    6424\n",
              "Small      1764\n",
              "Large       946\n",
              "Name: Vehicle Size, dtype: int64"
            ]
          },
          "metadata": {
            "tags": []
          }
        }
      ],
      "execution_count": 48,
      "metadata": {
        "id": "yM1CnShGMjD4",
        "colab_type": "code",
        "colab": {
          "base_uri": "https://localhost:8080/",
          "height": 105
        },
        "outputId": "e48a5bcd-133a-4dab-a869-3affc6a5d476"
      }
    },
    {
      "cell_type": "markdown",
      "source": [
        "## 2.3 Step Forward Selection\n",
        "Based on the analysis of features, we have obtained the following candidates and perform the forward selection algorithm to choose the best model"
      ],
      "metadata": {
        "id": "xVM12oouMjD4",
        "colab_type": "text"
      }
    },
    {
      "cell_type": "code",
      "source": [
        "X.columns=['State', 'CustomerLifetimeValue', 'Coverage', 'Education',\n",
        "       'EffectiveToDate', 'EmploymentStatus', 'Gender', 'Income',\n",
        "       'LocationCode', 'MaritalStatus', 'MonthlyPremiumAuto',\n",
        "       'MonthsSinceLastClaim', 'MonthsSincePolicyInception',\n",
        "       'NumberofOpenComplaints', 'NumberofPolicies', 'PolicyType',\n",
        "       'Policy', 'RenewOfferType', 'SalesChannel', 'TotalClaimAmount',\n",
        "       'VehicleClass', 'VehicleSize']\n",
        "# X = X[(X.RenewOfferType=='Offer1')|(X.RenewOfferType=='Offer2')|(X.RenewOfferType=='Offer3')] ; we cannot drop offer4  rows in the first layer!"
      ],
      "outputs": [],
      "execution_count": 0,
      "metadata": {
        "id": "Ueb1nWg_MjD4",
        "colab_type": "code",
        "colab": {}
      }
    },
    {
      "cell_type": "code",
      "source": [
        "candidates = [\"C(State)\", \"np.log(CustomerLifetimeValue)\", \"C(Coverage)\",\"C(Education)\",\n",
        " \"C(EmploymentStatus)\", \"C(Gender)\", \"Income\", \"C(LocationCode)\", \\\n",
        " \"C(MaritalStatus)\", 'np.log(MonthlyPremiumAuto)', 'C(MonthsSinceLastClaim)',\\\n",
        " 'MonthsSincePolicyInception', 'NumberofOpenComplaints', 'C(Policy)',\\\n",
        "    'C(SalesChannel)', 'TotalClaim Amount', 'C(VehicleClass)', 'C(VehicleSize)']\n",
        "print(\"length:\", len(candidates))"
      ],
      "outputs": [
        {
          "output_type": "stream",
          "name": "stdout",
          "text": [
            "length: 18\n"
          ]
        }
      ],
      "execution_count": 50,
      "metadata": {
        "id": "gkFy_c-GMjD5",
        "colab_type": "code",
        "colab": {
          "base_uri": "https://localhost:8080/",
          "height": 54
        },
        "outputId": "cbd62f41-22e8-42ea-baad-2e41f8f4502d"
      }
    },
    {
      "cell_type": "code",
      "source": [
        "bic_list = []\n",
        "from statsmodels.formula.api import mnlogit\n",
        "for string in candidates:\n",
        "    try:\n",
        "        formula = \"RenewOfferType~\"+string\n",
        "        model=mnlogit(formula=formula, data=X).fit()\n",
        "        bic_list.append(model.bic)  \n",
        "    except:\n",
        "        print('')\n",
        "print(candidates[np.argmin(bic_list)])\n",
        "#Based on the BIC criteria, the baseline model is RenewOfferType~Income"
      ],
      "outputs": [
        {
          "output_type": "stream",
          "name": "stdout",
          "text": [
            "Optimization terminated successfully.\n",
            "         Current function value: 1.265822\n",
            "         Iterations 5\n",
            "Optimization terminated successfully.\n",
            "         Current function value: 1.257633\n",
            "         Iterations 5\n",
            "Optimization terminated successfully.\n",
            "         Current function value: 1.263564\n",
            "         Iterations 5\n",
            "Optimization terminated successfully.\n",
            "         Current function value: 1.261701\n",
            "         Iterations 5\n",
            "Optimization terminated successfully.\n",
            "         Current function value: 1.242647\n",
            "         Iterations 6\n",
            "Optimization terminated successfully.\n",
            "         Current function value: 1.264728\n",
            "         Iterations 5\n",
            "Optimization terminated successfully.\n",
            "         Current function value: 1.245909\n",
            "         Iterations 5\n",
            "Optimization terminated successfully.\n",
            "         Current function value: 1.261843\n",
            "         Iterations 5\n",
            "Optimization terminated successfully.\n",
            "         Current function value: 1.249972\n",
            "         Iterations 5\n",
            "Optimization terminated successfully.\n",
            "         Current function value: 1.260430\n",
            "         Iterations 5\n",
            "Optimization terminated successfully.\n",
            "         Current function value: 1.254978\n",
            "         Iterations 6\n",
            "Optimization terminated successfully.\n",
            "         Current function value: 1.260029\n",
            "         Iterations 5\n",
            "Optimization terminated successfully.\n",
            "         Current function value: 1.264250\n",
            "         Iterations 5\n",
            "Optimization terminated successfully.\n",
            "         Current function value: 1.264792\n",
            "         Iterations 6\n",
            "Optimization terminated successfully.\n",
            "         Current function value: 1.252697\n",
            "         Iterations 5\n",
            "\n",
            "Optimization terminated successfully.\n",
            "         Current function value: 1.259324\n",
            "         Iterations 6\n",
            "Optimization terminated successfully.\n",
            "         Current function value: 1.265610\n",
            "         Iterations 5\n",
            "Income\n"
          ]
        }
      ],
      "execution_count": 51,
      "metadata": {
        "id": "cGLuzaeKMjD5",
        "colab_type": "code",
        "colab": {
          "base_uri": "https://localhost:8080/",
          "height": 938
        },
        "outputId": "9e482d5c-c349-4801-fe63-d70f46ebf246"
      }
    },
    {
      "cell_type": "code",
      "source": [
        "#The candidates without \"income\"\n",
        "candidate = [\"C(State)\", \"np.log(CustomerLifetimeValue)\", \"C(Coverage)\",\"C(Education)\",\n",
        " \"C(EmploymentStatus)\", \"C(Gender)\", \"C(LocationCode)\", \\\n",
        " \"C(MaritalStatus)\", 'np.log(MonthlyPremiumAuto)', 'C(MonthsSinceLastClaim)',\\\n",
        " 'MonthsSincePolicyInception', 'NumberofOpenComplaints', 'C(Policy)',\\\n",
        "    'C(SalesChannel)', 'TotalClaimAmount', 'C(VehicleClass)', 'C(VehicleSize)']\n",
        "full=len(candidate)\n",
        "best_model = \"RenewOfferType~Income\"\n",
        "BEST_BIC = np.inf\n",
        "for i in np.arange(full-1,-1,-1):\n",
        "    BIC = np.empty(i+1)\n",
        "    for j in range(i+1):\n",
        "        candidate_formula = best_model+\"+\"+candidate[j]\n",
        "        model = mnlogit(formula=candidate_formula,data=X).fit()\n",
        "        BIC[j] = model.bic\n",
        "        print(BIC)\n",
        "    if BEST_BIC>np.min(BIC):\n",
        "        Add_i=np.where(BIC==np.min(BIC))[0][0]\n",
        "        best_model=best_model+\"+\"+candidate[Add_i]\n",
        "    #print(Add_i)\n",
        "        print(\"variable added:\", candidate[Add_i])\n",
        "   # print(best_model)\n",
        "        BEST_BIC=np.min(BIC)\n",
        "        candidate=np.delete(candidate,Add_i)    \n",
        "    else:\n",
        "        break\n",
        "#the best string is stored in identifier best_model;"
      ],
      "outputs": [
        {
          "output_type": "stream",
          "name": "stdout",
          "text": [
            "Optimization terminated successfully.\n",
            "         Current function value: 1.245755\n",
            "         Iterations 5\n",
            "[ 2.29216094e+04 -9.42450893e-02 -9.86294575e-02 -4.75258053e-02\n",
            " -1.63673569e-01 -7.44889593e-02 -1.01252553e-01 -1.16850501e-01\n",
            " -1.48978564e-01 -1.52280944e-01 -1.12029225e-01 -1.45550225e-01\n",
            " -1.63722858e-01 -7.93615451e-02 -7.74191731e-02 -1.38679196e-01\n",
            " -4.89235169e-02]\n",
            "Optimization terminated successfully.\n",
            "         Current function value: 1.236068\n",
            "         Iterations 6\n",
            "[ 2.29216094e+04  2.26625641e+04 -9.86294575e-02 -4.75258053e-02\n",
            " -1.63673569e-01 -7.44889593e-02 -1.01252553e-01 -1.16850501e-01\n",
            " -1.48978564e-01 -1.52280944e-01 -1.12029225e-01 -1.45550225e-01\n",
            " -1.63722858e-01 -7.93615451e-02 -7.74191731e-02 -1.38679196e-01\n",
            " -4.89235169e-02]\n",
            "Optimization terminated successfully.\n",
            "         Current function value: 1.243337\n",
            "         Iterations 6\n",
            "[ 2.29216094e+04  2.26625641e+04  2.28227117e+04 -4.75258053e-02\n",
            " -1.63673569e-01 -7.44889593e-02 -1.01252553e-01 -1.16850501e-01\n",
            " -1.48978564e-01 -1.52280944e-01 -1.12029225e-01 -1.45550225e-01\n",
            " -1.63722858e-01 -7.93615451e-02 -7.74191731e-02 -1.38679196e-01\n",
            " -4.89235169e-02]\n",
            "Optimization terminated successfully.\n",
            "         Current function value: 1.241635\n",
            "         Iterations 5\n",
            "[ 2.29216094e+04  2.26625641e+04  2.28227117e+04  2.28463407e+04\n",
            " -1.63673569e-01 -7.44889593e-02 -1.01252553e-01 -1.16850501e-01\n",
            " -1.48978564e-01 -1.52280944e-01 -1.12029225e-01 -1.45550225e-01\n",
            " -1.63722858e-01 -7.93615451e-02 -7.74191731e-02 -1.38679196e-01\n",
            " -4.89235169e-02]\n",
            "Optimization terminated successfully.\n",
            "         Current function value: 1.240535\n",
            "         Iterations 6\n",
            "[ 2.29216094e+04  2.26625641e+04  2.28227117e+04  2.28463407e+04\n",
            "  2.28262528e+04 -7.44889593e-02 -1.01252553e-01 -1.16850501e-01\n",
            " -1.48978564e-01 -1.52280944e-01 -1.12029225e-01 -1.45550225e-01\n",
            " -1.63722858e-01 -7.93615451e-02 -7.74191731e-02 -1.38679196e-01\n",
            " -4.89235169e-02]\n",
            "Optimization terminated successfully.\n",
            "         Current function value: 1.244506\n",
            "         Iterations 5\n",
            "[ 2.29216094e+04  2.26625641e+04  2.28227117e+04  2.28463407e+04\n",
            "  2.28262528e+04  2.28167057e+04 -1.01252553e-01 -1.16850501e-01\n",
            " -1.48978564e-01 -1.52280944e-01 -1.12029225e-01 -1.45550225e-01\n",
            " -1.63722858e-01 -7.93615451e-02 -7.74191731e-02 -1.38679196e-01\n",
            " -4.89235169e-02]\n",
            "Optimization terminated successfully.\n",
            "         Current function value: 1.244807\n",
            "         Iterations 5\n",
            "[ 2.29216094e+04  2.26625641e+04  2.28227117e+04  2.28463407e+04\n",
            "  2.28262528e+04  2.28167057e+04  2.28495638e+04 -1.16850501e-01\n",
            " -1.48978564e-01 -1.52280944e-01 -1.12029225e-01 -1.45550225e-01\n",
            " -1.63722858e-01 -7.93615451e-02 -7.74191731e-02 -1.38679196e-01\n",
            " -4.89235169e-02]\n",
            "Optimization terminated successfully.\n",
            "         Current function value: 1.235817\n",
            "         Iterations 6\n",
            "[ 2.29216094e+04  2.26625641e+04  2.28227117e+04  2.28463407e+04\n",
            "  2.28262528e+04  2.28167057e+04  2.28495638e+04  2.26853395e+04\n",
            " -1.48978564e-01 -1.52280944e-01 -1.12029225e-01 -1.45550225e-01\n",
            " -1.63722858e-01 -7.93615451e-02 -7.74191731e-02 -1.38679196e-01\n",
            " -4.89235169e-02]\n",
            "Optimization terminated successfully.\n",
            "         Current function value: 1.240535\n",
            "         Iterations 6\n",
            "[ 2.29216094e+04  2.26625641e+04  2.28227117e+04  2.28463407e+04\n",
            "  2.28262528e+04  2.28167057e+04  2.28495638e+04  2.26853395e+04\n",
            "  2.27441665e+04 -1.52280944e-01 -1.12029225e-01 -1.45550225e-01\n",
            " -1.63722858e-01 -7.93615451e-02 -7.74191731e-02 -1.38679196e-01\n",
            " -4.89235169e-02]\n",
            "Optimization terminated successfully.\n",
            "         Current function value: 1.234916\n",
            "         Iterations 6\n",
            "[ 2.29216094e+04  2.26625641e+04  2.28227117e+04  2.28463407e+04\n",
            "  2.28262528e+04  2.28167057e+04  2.28495638e+04  2.26853395e+04\n",
            "  2.27441665e+04  2.35717440e+04 -1.12029225e-01 -1.45550225e-01\n",
            " -1.63722858e-01 -7.93615451e-02 -7.74191731e-02 -1.38679196e-01\n",
            " -4.89235169e-02]\n",
            "Optimization terminated successfully.\n",
            "         Current function value: 1.239763\n",
            "         Iterations 5\n",
            "[ 2.29216094e+04  2.26625641e+04  2.28227117e+04  2.28463407e+04\n",
            "  2.28262528e+04  2.28167057e+04  2.28495638e+04  2.26853395e+04\n",
            "  2.27441665e+04  2.35717440e+04  2.27300745e+04 -1.45550225e-01\n",
            " -1.63722858e-01 -7.93615451e-02 -7.74191731e-02 -1.38679196e-01\n",
            " -4.89235169e-02]\n",
            "Optimization terminated successfully.\n",
            "         Current function value: 1.244051\n",
            "         Iterations 5\n",
            "[ 2.29216094e+04  2.26625641e+04  2.28227117e+04  2.28463407e+04\n",
            "  2.28262528e+04  2.28167057e+04  2.28495638e+04  2.26853395e+04\n",
            "  2.27441665e+04  2.35717440e+04  2.27300745e+04  2.28084011e+04\n",
            " -1.63722858e-01 -7.93615451e-02 -7.74191731e-02 -1.38679196e-01\n",
            " -4.89235169e-02]\n",
            "Optimization terminated successfully.\n",
            "         Current function value: 1.244751\n",
            "         Iterations 6\n",
            "[ 2.29216094e+04  2.26625641e+04  2.28227117e+04  2.28463407e+04\n",
            "  2.28262528e+04  2.28167057e+04  2.28495638e+04  2.26853395e+04\n",
            "  2.27441665e+04  2.35717440e+04  2.27300745e+04  2.28084011e+04\n",
            "  2.30127014e+04 -7.93615451e-02 -7.74191731e-02 -1.38679196e-01\n",
            " -4.89235169e-02]\n",
            "Optimization terminated successfully.\n",
            "         Current function value: 1.232584\n",
            "         Iterations 6\n",
            "[ 2.29216094e+04  2.26625641e+04  2.28227117e+04  2.28463407e+04\n",
            "  2.28262528e+04  2.28167057e+04  2.28495638e+04  2.26853395e+04\n",
            "  2.27441665e+04  2.35717440e+04  2.27300745e+04  2.28084011e+04\n",
            "  2.30127014e+04  2.26536368e+04 -7.74191731e-02 -1.38679196e-01\n",
            " -4.89235169e-02]\n",
            "Optimization terminated successfully.\n",
            "         Current function value: 1.245079\n",
            "         Iterations 5\n",
            "[ 2.29216094e+04  2.26625641e+04  2.28227117e+04  2.28463407e+04\n",
            "  2.28262528e+04  2.28167057e+04  2.28495638e+04  2.26853395e+04\n",
            "  2.27441665e+04  2.35717440e+04  2.27300745e+04  2.28084011e+04\n",
            "  2.30127014e+04  2.26536368e+04  2.28271850e+04 -1.38679196e-01\n",
            " -4.89235169e-02]\n",
            "Optimization terminated successfully.\n",
            "         Current function value: 1.239689\n",
            "         Iterations 6\n",
            "[ 2.29216094e+04  2.26625641e+04  2.28227117e+04  2.28463407e+04\n",
            "  2.28262528e+04  2.28167057e+04  2.28495638e+04  2.26853395e+04\n",
            "  2.27441665e+04  2.35717440e+04  2.27300745e+04  2.28084011e+04\n",
            "  2.30127014e+04  2.26536368e+04  2.28271850e+04  2.28381535e+04\n",
            " -4.89235169e-02]\n",
            "Optimization terminated successfully.\n",
            "         Current function value: 1.245508\n",
            "         Iterations 5\n",
            "[22921.60936303 22662.56410016 22822.71170892 22846.34070298\n",
            " 22826.25282447 22816.70566244 22849.56382943 22685.33948801\n",
            " 22744.16651306 23571.74395079 22730.07446636 22808.40108491\n",
            " 23012.70143664 22653.63684497 22827.18497032 22838.15348722\n",
            " 22862.37967989]\n",
            "variable added: C(SalesChannel)\n",
            "Optimization terminated successfully.\n",
            "         Current function value: 1.232440\n",
            "         Iterations 6\n",
            "[ 2.27604518e+04  3.27735781e+02  8.63841152e+01  2.06702888e+07\n",
            "  3.27735781e+02  3.27735781e+02 -0.00000000e+00  1.47949135e+07\n",
            "  8.63841152e+01 -0.00000000e+00  8.63841152e+01  3.85296441e+06\n",
            "  2.06702888e+07  1.47949135e+07  3.85296441e+06  1.35166176e+12]\n",
            "Optimization terminated successfully.\n",
            "         Current function value: 1.222804\n",
            "         Iterations 6\n",
            "[ 2.27604518e+04  2.25023482e+04  8.63841152e+01  2.06702888e+07\n",
            "  3.27735781e+02  3.27735781e+02 -0.00000000e+00  1.47949135e+07\n",
            "  8.63841152e+01 -0.00000000e+00  8.63841152e+01  3.85296441e+06\n",
            "  2.06702888e+07  1.47949135e+07  3.85296441e+06  1.35166176e+12]\n",
            "Optimization terminated successfully.\n",
            "         Current function value: 1.229957\n",
            "         Iterations 6\n",
            "[ 2.27604518e+04  2.25023482e+04  2.26603780e+04  2.06702888e+07\n",
            "  3.27735781e+02  3.27735781e+02 -0.00000000e+00  1.47949135e+07\n",
            "  8.63841152e+01 -0.00000000e+00  8.63841152e+01  3.85296441e+06\n",
            "  2.06702888e+07  1.47949135e+07  3.85296441e+06  1.35166176e+12]\n",
            "Optimization terminated successfully.\n",
            "         Current function value: 1.228035\n",
            "         Iterations 6\n",
            "[ 2.27604518e+04  2.25023482e+04  2.26603780e+04  2.26799782e+04\n",
            "  3.27735781e+02  3.27735781e+02 -0.00000000e+00  1.47949135e+07\n",
            "  8.63841152e+01 -0.00000000e+00  8.63841152e+01  3.85296441e+06\n",
            "  2.06702888e+07  1.47949135e+07  3.85296441e+06  1.35166176e+12]\n",
            "Optimization terminated successfully.\n",
            "         Current function value: 1.227142\n",
            "         Iterations 6\n",
            "[ 2.27604518e+04  2.25023482e+04  2.26603780e+04  2.26799782e+04\n",
            "  2.26636725e+04  3.27735781e+02 -0.00000000e+00  1.47949135e+07\n",
            "  8.63841152e+01 -0.00000000e+00  8.63841152e+01  3.85296441e+06\n",
            "  2.06702888e+07  1.47949135e+07  3.85296441e+06  1.35166176e+12]\n",
            "Optimization terminated successfully.\n",
            "         Current function value: 1.230978\n",
            "         Iterations 6\n",
            "[ 2.27604518e+04  2.25023482e+04  2.26603780e+04  2.26799782e+04\n",
            "  2.26636725e+04  2.26516549e+04 -0.00000000e+00  1.47949135e+07\n",
            "  8.63841152e+01 -0.00000000e+00  8.63841152e+01  3.85296441e+06\n",
            "  2.06702888e+07  1.47949135e+07  3.85296441e+06  1.35166176e+12]\n",
            "Optimization terminated successfully.\n",
            "         Current function value: 1.231483\n",
            "         Iterations 6\n",
            "[ 2.27604518e+04  2.25023482e+04  2.26603780e+04  2.26799782e+04\n",
            "  2.26636725e+04  2.26516549e+04  2.26882536e+04  1.47949135e+07\n",
            "  8.63841152e+01 -0.00000000e+00  8.63841152e+01  3.85296441e+06\n",
            "  2.06702888e+07  1.47949135e+07  3.85296441e+06  1.35166176e+12]\n",
            "Optimization terminated successfully.\n",
            "         Current function value: 1.222263\n",
            "         Iterations 6\n",
            "[ 2.27604518e+04  2.25023482e+04  2.26603780e+04  2.26799782e+04\n",
            "  2.26636725e+04  2.26516549e+04  2.26882536e+04  2.25198113e+04\n",
            "  8.63841152e+01 -0.00000000e+00  8.63841152e+01  3.85296441e+06\n",
            "  2.06702888e+07  1.47949135e+07  3.85296441e+06  1.35166176e+12]\n",
            "Optimization terminated successfully.\n",
            "         Current function value: 1.227280\n",
            "         Iterations 6\n",
            "[ 2.27604518e+04  2.25023482e+04  2.26603780e+04  2.26799782e+04\n",
            "  2.26636725e+04  2.26516549e+04  2.26882536e+04  2.25198113e+04\n",
            "  2.25841043e+04 -0.00000000e+00  8.63841152e+01  3.85296441e+06\n",
            "  2.06702888e+07  1.47949135e+07  3.85296441e+06  1.35166176e+12]\n",
            "Optimization terminated successfully.\n",
            "         Current function value: 1.221745\n",
            "         Iterations 6\n",
            "[2.27604518e+04 2.25023482e+04 2.26603780e+04 2.26799782e+04\n",
            " 2.26636725e+04 2.26516549e+04 2.26882536e+04 2.25198113e+04\n",
            " 2.25841043e+04 2.34132093e+04 8.63841152e+01 3.85296441e+06\n",
            " 2.06702888e+07 1.47949135e+07 3.85296441e+06 1.35166176e+12]\n",
            "Optimization terminated successfully.\n",
            "         Current function value: 1.226395\n",
            "         Iterations 6\n",
            "[2.27604518e+04 2.25023482e+04 2.26603780e+04 2.26799782e+04\n",
            " 2.26636725e+04 2.26516549e+04 2.26882536e+04 2.25198113e+04\n",
            " 2.25841043e+04 2.34132093e+04 2.25679471e+04 3.85296441e+06\n",
            " 2.06702888e+07 1.47949135e+07 3.85296441e+06 1.35166176e+12]\n",
            "Optimization terminated successfully.\n",
            "         Current function value: 1.230742\n",
            "         Iterations 6\n",
            "[2.27604518e+04 2.25023482e+04 2.26603780e+04 2.26799782e+04\n",
            " 2.26636725e+04 2.26516549e+04 2.26882536e+04 2.25198113e+04\n",
            " 2.25841043e+04 2.34132093e+04 2.25679471e+04 2.26473477e+04\n",
            " 2.06702888e+07 1.47949135e+07 3.85296441e+06 1.35166176e+12]\n",
            "Optimization terminated successfully.\n",
            "         Current function value: 1.231352\n",
            "         Iterations 6\n",
            "[2.27604518e+04 2.25023482e+04 2.26603780e+04 2.26799782e+04\n",
            " 2.26636725e+04 2.26516549e+04 2.26882536e+04 2.25198113e+04\n",
            " 2.25841043e+04 2.34132093e+04 2.25679471e+04 2.26473477e+04\n",
            " 2.28500150e+04 1.47949135e+07 3.85296441e+06 1.35166176e+12]\n",
            "Optimization terminated successfully.\n",
            "         Current function value: 1.231770\n",
            "         Iterations 5\n",
            "[2.27604518e+04 2.25023482e+04 2.26603780e+04 2.26799782e+04\n",
            " 2.26636725e+04 2.26516549e+04 2.26882536e+04 2.25198113e+04\n",
            " 2.25841043e+04 2.34132093e+04 2.25679471e+04 2.26473477e+04\n",
            " 2.28500150e+04 2.26661239e+04 3.85296441e+06 1.35166176e+12]\n",
            "Optimization terminated successfully.\n",
            "         Current function value: 1.226342\n",
            "         Iterations 6\n",
            "[2.27604518e+04 2.25023482e+04 2.26603780e+04 2.26799782e+04\n",
            " 2.26636725e+04 2.26516549e+04 2.26882536e+04 2.25198113e+04\n",
            " 2.25841043e+04 2.34132093e+04 2.25679471e+04 2.26473477e+04\n",
            " 2.28500150e+04 2.26661239e+04 2.26764154e+04 1.35166176e+12]\n",
            "Optimization terminated successfully.\n",
            "         Current function value: 1.232183\n",
            "         Iterations 5\n",
            "[22760.45183133 22502.34818296 22660.37801167 22679.97816251\n",
            " 22663.67251549 22651.65489393 22688.25364077 22519.81126175\n",
            " 22584.1043065  23413.20925771 22567.94706656 22647.34774755\n",
            " 22850.01498273 22666.12390355 22676.4153548  22701.02610771]\n",
            "variable added: np.log(CustomerLifetimeValue)\n",
            "Optimization terminated successfully.\n",
            "         Current function value: 1.222646\n",
            "         Iterations 6\n",
            "[22608.89784923     0.             0.             0.\n",
            "     0.             0.             0.             0.\n",
            "     0.             0.             0.             0.\n",
            "     0.             0.             0.        ]\n",
            "Optimization terminated successfully.\n",
            "         Current function value: 1.221364\n",
            "         Iterations 6\n",
            "[22608.89784923 22530.74603952     0.             0.\n",
            "     0.             0.             0.             0.\n",
            "     0.             0.             0.             0.\n",
            "     0.             0.             0.        ]\n",
            "Optimization terminated successfully.\n",
            "         Current function value: 1.217939\n",
            "         Iterations 6\n",
            "[22608.89784923 22530.74603952 22522.90724996     0.\n",
            "     0.             0.             0.             0.\n",
            "     0.             0.             0.             0.\n",
            "     0.             0.             0.        ]\n",
            "Optimization terminated successfully.\n",
            "         Current function value: 1.216840\n",
            "         Iterations 6\n",
            "[22608.89784923 22530.74603952 22522.90724996 22502.82762796\n",
            "     0.             0.             0.             0.\n",
            "     0.             0.             0.             0.\n",
            "     0.             0.             0.        ]\n",
            "Optimization terminated successfully.\n",
            "         Current function value: 1.221252\n",
            "         Iterations 6\n",
            "[22608.89784923 22530.74603952 22522.90724996 22502.82762796\n",
            " 22501.3527043      0.             0.             0.\n",
            "     0.             0.             0.             0.\n",
            "     0.             0.             0.        ]\n",
            "Optimization terminated successfully.\n",
            "         Current function value: 1.221691\n",
            "         Iterations 6\n",
            "[22608.89784923 22530.74603952 22522.90724996 22502.82762796\n",
            " 22501.3527043  22536.72348676     0.             0.\n",
            "     0.             0.             0.             0.\n",
            "     0.             0.             0.        ]\n",
            "Optimization terminated successfully.\n",
            "         Current function value: 1.212014\n",
            "         Iterations 6\n",
            "[22608.89784923 22530.74603952 22522.90724996 22502.82762796\n",
            " 22501.3527043  22536.72348676 22359.94912625     0.\n",
            "     0.             0.             0.             0.\n",
            "     0.             0.             0.        ]\n",
            "Optimization terminated successfully.\n",
            "         Current function value: 1.221807\n",
            "         Iterations 6\n",
            "[22608.89784923 22530.74603952 22522.90724996 22502.82762796\n",
            " 22501.3527043  22536.72348676 22359.94912625 22511.49239545\n",
            "     0.             0.             0.             0.\n",
            "     0.             0.             0.        ]\n",
            "Optimization terminated successfully.\n",
            "         Current function value: 1.211813\n",
            "         Iterations 6\n",
            "[22608.89784923 22530.74603952 22522.90724996 22502.82762796\n",
            " 22501.3527043  22536.72348676 22359.94912625 22511.49239545\n",
            " 23259.1320572      0.             0.             0.\n",
            "     0.             0.             0.        ]\n",
            "Optimization terminated successfully.\n",
            "         Current function value: 1.216515\n",
            "         Iterations 6\n",
            "[22608.89784923 22530.74603952 22522.90724996 22502.82762796\n",
            " 22501.3527043  22536.72348676 22359.94912625 22511.49239545\n",
            " 23259.1320572  22414.80609986     0.             0.\n",
            "     0.             0.             0.        ]\n",
            "Optimization terminated successfully.\n",
            "         Current function value: 1.220538\n",
            "         Iterations 6\n",
            "[22608.89784923 22530.74603952 22522.90724996 22502.82762796\n",
            " 22501.3527043  22536.72348676 22359.94912625 22511.49239545\n",
            " 23259.1320572  22414.80609986 22488.31098312     0.\n",
            "     0.             0.             0.        ]\n",
            "Optimization terminated successfully.\n",
            "         Current function value: 1.221513\n",
            "         Iterations 6\n",
            "[22608.89784923 22530.74603952 22522.90724996 22502.82762796\n",
            " 22501.3527043  22536.72348676 22359.94912625 22511.49239545\n",
            " 23259.1320572  22414.80609986 22488.31098312 22697.6369462\n",
            "     0.             0.             0.        ]\n",
            "Optimization terminated successfully.\n",
            "         Current function value: 1.222604\n",
            "         Iterations 6\n",
            "[22608.89784923 22530.74603952 22522.90724996 22502.82762796\n",
            " 22501.3527043  22536.72348676 22359.94912625 22511.49239545\n",
            " 23259.1320572  22414.80609986 22488.31098312 22697.6369462\n",
            " 22526.03759351     0.             0.        ]\n",
            "Optimization terminated successfully.\n",
            "         Current function value: 1.219749\n",
            "         Iterations 6\n",
            "[22608.89784923 22530.74603952 22522.90724996 22502.82762796\n",
            " 22501.3527043  22536.72348676 22359.94912625 22511.49239545\n",
            " 23259.1320572  22414.80609986 22488.31098312 22697.6369462\n",
            " 22526.03759351 22583.32406635     0.        ]\n",
            "Optimization terminated successfully.\n",
            "         Current function value: 1.222439\n",
            "         Iterations 6\n",
            "[22608.89784923 22530.74603952 22522.90724996 22502.82762796\n",
            " 22501.3527043  22536.72348676 22359.94912625 22511.49239545\n",
            " 23259.1320572  22414.80609986 22488.31098312 22697.6369462\n",
            " 22526.03759351 22583.32406635 22550.39188571]\n",
            "variable added: C(MaritalStatus)\n",
            "Optimization terminated successfully.\n",
            "         Current function value: 1.211878\n",
            "         Iterations 6\n",
            "[22466.89356446 22530.74603952 22522.90724996 22502.82762796\n",
            " 22501.3527043  22536.72348676 22359.94912625 22511.49239545\n",
            " 23259.1320572  22414.80609986 22488.31098312 22697.6369462\n",
            " 22526.03759351 22583.32406635]\n",
            "Optimization terminated successfully.\n",
            "         Current function value: 1.210536\n",
            "         Iterations 6\n",
            "[22466.89356446 22387.66471222 22522.90724996 22502.82762796\n",
            " 22501.3527043  22536.72348676 22359.94912625 22511.49239545\n",
            " 23259.1320572  22414.80609986 22488.31098312 22697.6369462\n",
            " 22526.03759351 22583.32406635]\n",
            "Optimization terminated successfully.\n",
            "         Current function value: 1.207465\n",
            "         Iterations 6\n",
            "[22466.89356446 22387.66471222 22386.28555731 22502.82762796\n",
            " 22501.3527043  22536.72348676 22359.94912625 22511.49239545\n",
            " 23259.1320572  22414.80609986 22488.31098312 22697.6369462\n",
            " 22526.03759351 22583.32406635]\n",
            "Optimization terminated successfully.\n",
            "         Current function value: 1.206816\n",
            "         Iterations 6\n",
            "[22466.89356446 22387.66471222 22386.28555731 22374.42378959\n",
            " 22501.3527043  22536.72348676 22359.94912625 22511.49239545\n",
            " 23259.1320572  22414.80609986 22488.31098312 22697.6369462\n",
            " 22526.03759351 22583.32406635]\n",
            "Optimization terminated successfully.\n",
            "         Current function value: 1.210235\n",
            "         Iterations 6\n",
            "[22466.89356446 22387.66471222 22386.28555731 22374.42378959\n",
            " 22354.81106919 22536.72348676 22359.94912625 22511.49239545\n",
            " 23259.1320572  22414.80609986 22488.31098312 22697.6369462\n",
            " 22526.03759351 22583.32406635]\n",
            "Optimization terminated successfully.\n",
            "         Current function value: 1.210675\n",
            "         Iterations 6\n",
            "[22466.89356446 22387.66471222 22386.28555731 22374.42378959\n",
            " 22354.81106919 22390.20737663 22359.94912625 22511.49239545\n",
            " 23259.1320572  22414.80609986 22488.31098312 22697.6369462\n",
            " 22526.03759351 22583.32406635]\n",
            "Optimization terminated successfully.\n",
            "         Current function value: 1.210990\n",
            "         Iterations 6\n",
            "[22466.89356446 22387.66471222 22386.28555731 22374.42378959\n",
            " 22354.81106919 22390.20737663 22368.60773103 22511.49239545\n",
            " 23259.1320572  22414.80609986 22488.31098312 22697.6369462\n",
            " 22526.03759351 22583.32406635]\n",
            "Optimization terminated successfully.\n",
            "         Current function value: 1.201275\n",
            "         Iterations 6\n",
            "[22466.89356446 22387.66471222 22386.28555731 22374.42378959\n",
            " 22354.81106919 22390.20737663 22368.60773103 23121.33876677\n",
            " 23259.1320572  22414.80609986 22488.31098312 22697.6369462\n",
            " 22526.03759351 22583.32406635]\n",
            "Optimization terminated successfully.\n",
            "         Current function value: 1.205664\n",
            "         Iterations 6\n",
            "[22466.89356446 22387.66471222 22386.28555731 22374.42378959\n",
            " 22354.81106919 22390.20737663 22368.60773103 23121.33876677\n",
            " 22271.30763794 22414.80609986 22488.31098312 22697.6369462\n",
            " 22526.03759351 22583.32406635]\n",
            "Optimization terminated successfully.\n",
            "         Current function value: 1.209752\n",
            "         Iterations 6\n",
            "[22466.89356446 22387.66471222 22386.28555731 22374.42378959\n",
            " 22354.81106919 22390.20737663 22368.60773103 23121.33876677\n",
            " 22271.30763794 22345.9913881  22488.31098312 22697.6369462\n",
            " 22526.03759351 22583.32406635]\n",
            "Optimization terminated successfully.\n",
            "         Current function value: 1.210653\n",
            "         Iterations 6\n",
            "[22466.89356446 22387.66471222 22386.28555731 22374.42378959\n",
            " 22354.81106919 22390.20737663 22368.60773103 23121.33876677\n",
            " 22271.30763794 22345.9913881  22553.96482545 22697.6369462\n",
            " 22526.03759351 22583.32406635]\n",
            "Optimization terminated successfully.\n",
            "         Current function value: 1.211676\n",
            "         Iterations 6\n",
            "[22466.89356446 22387.66471222 22386.28555731 22374.42378959\n",
            " 22354.81106919 22390.20737663 22368.60773103 23121.33876677\n",
            " 22271.30763794 22345.9913881  22553.96482545 22381.12925625\n",
            " 22526.03759351 22583.32406635]\n",
            "Optimization terminated successfully.\n",
            "         Current function value: 1.208658\n",
            "         Iterations 6\n",
            "[22466.89356446 22387.66471222 22386.28555731 22374.42378959\n",
            " 22354.81106919 22390.20737663 22368.60773103 23121.33876677\n",
            " 22271.30763794 22345.9913881  22553.96482545 22381.12925625\n",
            " 22435.4381105  22583.32406635]\n",
            "Optimization terminated successfully.\n",
            "         Current function value: 1.211662\n",
            "         Iterations 6\n",
            "[22466.89356446 22387.66471222 22386.28555731 22374.42378959\n",
            " 22354.81106919 22390.20737663 22368.60773103 23121.33876677\n",
            " 22271.30763794 22345.9913881  22553.96482545 22381.12925625\n",
            " 22435.4381105  22408.23317665]\n",
            "variable added: MonthsSincePolicyInception\n",
            "Optimization terminated successfully.\n",
            "         Current function value: 1.205548\n",
            "         Iterations 6\n",
            "[2.23786168e+004 6.93023438e-310 6.93023438e-310 6.93023426e-310\n",
            " 6.93023438e-310 6.93023438e-310 6.93023438e-310 6.93023425e-310\n",
            " 6.93023426e-310 6.93023425e-310 6.93023425e-310 6.93023341e-310\n",
            " 6.93023438e-310]\n",
            "Optimization terminated successfully.\n",
            "         Current function value: 1.204235\n",
            "         Iterations 6\n",
            "[2.23786168e+004 2.22999188e+004 6.93023438e-310 6.93023426e-310\n",
            " 6.93023438e-310 6.93023438e-310 6.93023438e-310 6.93023425e-310\n",
            " 6.93023426e-310 6.93023425e-310 6.93023425e-310 6.93023341e-310\n",
            " 6.93023438e-310]\n",
            "Optimization terminated successfully.\n",
            "         Current function value: 1.201153\n",
            "         Iterations 6\n",
            "[2.23786168e+004 2.22999188e+004 2.22983251e+004 6.93023426e-310\n",
            " 6.93023438e-310 6.93023438e-310 6.93023438e-310 6.93023425e-310\n",
            " 6.93023426e-310 6.93023425e-310 6.93023425e-310 6.93023341e-310\n",
            " 6.93023438e-310]\n",
            "Optimization terminated successfully.\n",
            "         Current function value: 1.200490\n",
            "         Iterations 6\n",
            "[2.23786168e+004 2.22999188e+004 2.22983251e+004 2.22862176e+004\n",
            " 6.93023438e-310 6.93023438e-310 6.93023438e-310 6.93023425e-310\n",
            " 6.93023426e-310 6.93023425e-310 6.93023425e-310 6.93023341e-310\n",
            " 6.93023438e-310]\n",
            "Optimization terminated successfully.\n",
            "         Current function value: 1.203833\n",
            "         Iterations 6\n",
            "[2.23786168e+004 2.22999188e+004 2.22983251e+004 2.22862176e+004\n",
            " 2.22652103e+004 6.93023438e-310 6.93023438e-310 6.93023425e-310\n",
            " 6.93023426e-310 6.93023425e-310 6.93023425e-310 6.93023341e-310\n",
            " 6.93023438e-310]\n",
            "Optimization terminated successfully.\n",
            "         Current function value: 1.204382\n",
            "         Iterations 6\n",
            "[2.23786168e+004 2.22999188e+004 2.22983251e+004 2.22862176e+004\n",
            " 2.22652103e+004 2.23026087e+004 6.93023438e-310 6.93023425e-310\n",
            " 6.93023426e-310 6.93023425e-310 6.93023425e-310 6.93023341e-310\n",
            " 6.93023438e-310]\n",
            "Optimization terminated successfully.\n",
            "         Current function value: 1.204729\n",
            "         Iterations 6\n",
            "[2.23786168e+004 2.22999188e+004 2.22983251e+004 2.22862176e+004\n",
            " 2.22652103e+004 2.23026087e+004 2.22815776e+004 6.93023425e-310\n",
            " 6.93023426e-310 6.93023425e-310 6.93023425e-310 6.93023341e-310\n",
            " 6.93023438e-310]\n",
            "Optimization terminated successfully.\n",
            "         Current function value: 1.195216\n",
            "         Iterations 6\n",
            "[2.23786168e+004 2.22999188e+004 2.22983251e+004 2.22862176e+004\n",
            " 2.22652103e+004 2.23026087e+004 2.22815776e+004 2.30380074e+004\n",
            " 6.93023426e-310 6.93023425e-310 6.93023425e-310 6.93023341e-310\n",
            " 6.93023438e-310]\n",
            "Optimization terminated successfully.\n",
            "         Current function value: 1.203394\n",
            "         Iterations 6\n",
            "[2.23786168e+004 2.22999188e+004 2.22983251e+004 2.22862176e+004\n",
            " 2.22652103e+004 2.23026087e+004 2.22815776e+004 2.30380074e+004\n",
            " 2.22571881e+004 6.93023425e-310 6.93023425e-310 6.93023341e-310\n",
            " 6.93023438e-310]\n",
            "Optimization terminated successfully.\n",
            "         Current function value: 1.204349\n",
            "         Iterations 6\n",
            "[2.23786168e+004 2.22999188e+004 2.22983251e+004 2.22862176e+004\n",
            " 2.22652103e+004 2.23026087e+004 2.22815776e+004 2.30380074e+004\n",
            " 2.22571881e+004 2.24661568e+004 6.93023425e-310 6.93023341e-310\n",
            " 6.93023438e-310]\n",
            "Optimization terminated successfully.\n",
            "         Current function value: 1.205307\n",
            "         Iterations 6\n",
            "[2.23786168e+004 2.22999188e+004 2.22983251e+004 2.22862176e+004\n",
            " 2.22652103e+004 2.23026087e+004 2.22815776e+004 2.30380074e+004\n",
            " 2.22571881e+004 2.24661568e+004 2.22921482e+004 6.93023341e-310\n",
            " 6.93023438e-310]\n",
            "Optimization terminated successfully.\n",
            "         Current function value: 1.202120\n",
            "         Iterations 6\n",
            "[2.23786168e+004 2.22999188e+004 2.22983251e+004 2.22862176e+004\n",
            " 2.22652103e+004 2.23026087e+004 2.22815776e+004 2.30380074e+004\n",
            " 2.22571881e+004 2.24661568e+004 2.22921482e+004 2.23433610e+004\n",
            " 6.93023438e-310]\n",
            "Optimization terminated successfully.\n",
            "         Current function value: 1.205296\n",
            "         Iterations 6\n",
            "[22378.61679519 22299.91883287 22298.32514309 22286.21757648\n",
            " 22265.21030519 22302.60870263 22281.5775879  23038.00743343\n",
            " 22257.18813639 22466.15680946 22292.14816608 22343.36102404\n",
            " 22319.30534827]\n",
            "variable added: NumberofOpenComplaints\n",
            "Optimization terminated successfully.\n",
            "         Current function value: 1.203280\n",
            "         Iterations 6\n",
            "[2.23645492e+04 0.00000000e+00 0.00000000e+00 1.00000000e+00\n",
            " 0.00000000e+00 0.00000000e+00 0.00000000e+00 1.00000000e+00\n",
            " 0.00000000e+00 0.00000000e+00 0.00000000e+00 1.00000000e+00]\n",
            "Optimization terminated successfully.\n",
            "         Current function value: 1.201906\n",
            "         Iterations 6\n",
            "[2.23645492e+04 2.22847329e+04 0.00000000e+00 1.00000000e+00\n",
            " 0.00000000e+00 0.00000000e+00 0.00000000e+00 1.00000000e+00\n",
            " 0.00000000e+00 0.00000000e+00 0.00000000e+00 1.00000000e+00]\n",
            "Optimization terminated successfully.\n",
            "         Current function value: 1.198969\n",
            "         Iterations 6\n",
            "[2.23645492e+04 2.22847329e+04 2.22857974e+04 1.00000000e+00\n",
            " 0.00000000e+00 0.00000000e+00 0.00000000e+00 1.00000000e+00\n",
            " 0.00000000e+00 0.00000000e+00 0.00000000e+00 1.00000000e+00]\n",
            "Optimization terminated successfully.\n",
            "         Current function value: 1.198074\n",
            "         Iterations 6\n",
            "[2.23645492e+04 2.22847329e+04 2.22857974e+04 2.22694509e+04\n",
            " 0.00000000e+00 0.00000000e+00 0.00000000e+00 1.00000000e+00\n",
            " 0.00000000e+00 0.00000000e+00 0.00000000e+00 1.00000000e+00]\n",
            "Optimization terminated successfully.\n",
            "         Current function value: 1.201568\n",
            "         Iterations 6\n",
            "[2.23645492e+04 2.22847329e+04 2.22857974e+04 2.22694509e+04\n",
            " 2.22511892e+04 0.00000000e+00 0.00000000e+00 1.00000000e+00\n",
            " 0.00000000e+00 0.00000000e+00 0.00000000e+00 1.00000000e+00]\n",
            "Optimization terminated successfully.\n",
            "         Current function value: 1.202097\n",
            "         Iterations 6\n",
            "[2.23645492e+04 2.22847329e+04 2.22857974e+04 2.22694509e+04\n",
            " 2.22511892e+04 2.22882201e+04 0.00000000e+00 1.00000000e+00\n",
            " 0.00000000e+00 0.00000000e+00 0.00000000e+00 1.00000000e+00]\n",
            "Optimization terminated successfully.\n",
            "         Current function value: 1.202475\n",
            "         Iterations 6\n",
            "[2.23645492e+04 2.22847329e+04 2.22857974e+04 2.22694509e+04\n",
            " 2.22511892e+04 2.22882201e+04 2.22677743e+04 1.00000000e+00\n",
            " 0.00000000e+00 0.00000000e+00 0.00000000e+00 1.00000000e+00]\n",
            "Optimization terminated successfully.\n",
            "         Current function value: 1.192966\n",
            "         Iterations 6\n",
            "[2.23645492e+04 2.22847329e+04 2.22857974e+04 2.22694509e+04\n",
            " 2.22511892e+04 2.22882201e+04 2.22677743e+04 2.30242735e+04\n",
            " 0.00000000e+00 0.00000000e+00 0.00000000e+00 1.00000000e+00]\n",
            "Optimization terminated successfully.\n",
            "         Current function value: 1.202024\n",
            "         Iterations 6\n",
            "[2.23645492e+04 2.22847329e+04 2.22857974e+04 2.22694509e+04\n",
            " 2.22511892e+04 2.22882201e+04 2.22677743e+04 2.30242735e+04\n",
            " 2.24510458e+04 0.00000000e+00 0.00000000e+00 1.00000000e+00]\n",
            "Optimization terminated successfully.\n",
            "         Current function value: 1.203032\n",
            "         Iterations 6\n",
            "[2.23645492e+04 2.22847329e+04 2.22857974e+04 2.22694509e+04\n",
            " 2.22511892e+04 2.22882201e+04 2.22677743e+04 2.30242735e+04\n",
            " 2.24510458e+04 2.22779429e+04 0.00000000e+00 1.00000000e+00]\n",
            "Optimization terminated successfully.\n",
            "         Current function value: 1.199817\n",
            "         Iterations 6\n",
            "[2.23645492e+04 2.22847329e+04 2.22857974e+04 2.22694509e+04\n",
            " 2.22511892e+04 2.22882201e+04 2.22677743e+04 2.30242735e+04\n",
            " 2.24510458e+04 2.22779429e+04 2.23286466e+04 1.00000000e+00]\n",
            "Optimization terminated successfully.\n",
            "         Current function value: 1.203025\n",
            "         Iterations 6\n",
            "[22364.54924997 22284.73293342 22285.79739171 22269.45091346\n",
            " 22251.18922276 22288.22005582 22267.77425412 23024.27346077\n",
            " 22451.04581506 22277.94286111 22328.64664375 22305.17355462]\n",
            "variable added: C(Gender)\n",
            "Optimization terminated successfully.\n",
            "         Current function value: 1.201458\n",
            "         Iterations 6\n",
            "[2.23586190e+004 6.93023425e-310 6.93023425e-310 6.93023341e-310\n",
            " 6.93023425e-310 6.93023438e-310 6.93023341e-310 6.93023425e-310\n",
            " 6.93023425e-310 6.93023426e-310 6.93023426e-310]\n",
            "Optimization terminated successfully.\n",
            "         Current function value: 1.200059\n",
            "         Iterations 6\n",
            "[2.23586190e+004 2.22783421e+004 6.93023425e-310 6.93023341e-310\n",
            " 6.93023425e-310 6.93023438e-310 6.93023341e-310 6.93023425e-310\n",
            " 6.93023425e-310 6.93023426e-310 6.93023426e-310]\n",
            "Optimization terminated successfully.\n",
            "         Current function value: 1.197190\n",
            "         Iterations 6\n",
            "[2.23586190e+004 2.22783421e+004 2.22806568e+004 6.93023341e-310\n",
            " 6.93023425e-310 6.93023438e-310 6.93023341e-310 6.93023425e-310\n",
            " 6.93023425e-310 6.93023426e-310 6.93023426e-310]\n",
            "Optimization terminated successfully.\n",
            "         Current function value: 1.196263\n",
            "         Iterations 6\n",
            "[2.23586190e+004 2.22783421e+004 2.22806568e+004 2.22637144e+004\n",
            " 6.93023425e-310 6.93023438e-310 6.93023341e-310 6.93023425e-310\n",
            " 6.93023425e-310 6.93023426e-310 6.93023426e-310]\n",
            "Optimization terminated successfully.\n",
            "         Current function value: 1.200353\n",
            "         Iterations 6\n",
            "[2.23586190e+004 2.22783421e+004 2.22806568e+004 2.22637144e+004\n",
            " 2.22837189e+004 6.93023438e-310 6.93023341e-310 6.93023425e-310\n",
            " 6.93023425e-310 6.93023426e-310 6.93023426e-310]\n",
            "Optimization terminated successfully.\n",
            "         Current function value: 1.200633\n",
            "         Iterations 6\n",
            "[2.23586190e+004 2.22783421e+004 2.22806568e+004 2.22637144e+004\n",
            " 2.22837189e+004 2.22614713e+004 6.93023341e-310 6.93023425e-310\n",
            " 6.93023425e-310 6.93023426e-310 6.93023426e-310]\n",
            "Optimization terminated successfully.\n",
            "         Current function value: 1.191155\n",
            "         Iterations 6\n",
            "[2.23586190e+004 2.22783421e+004 2.22806568e+004 2.22637144e+004\n",
            " 2.22837189e+004 2.22614713e+004 2.30185529e+004 6.93023425e-310\n",
            " 6.93023425e-310 6.93023426e-310 6.93023426e-310]\n",
            "Optimization terminated successfully.\n",
            "         Current function value: 1.200214\n",
            "         Iterations 6\n",
            "[2.23586190e+004 2.22783421e+004 2.22806568e+004 2.22637144e+004\n",
            " 2.22837189e+004 2.22614713e+004 2.30185529e+004 2.24453312e+004\n",
            " 6.93023425e-310 6.93023426e-310 6.93023426e-310]\n",
            "Optimization terminated successfully.\n",
            "         Current function value: 1.201250\n",
            "         Iterations 6\n",
            "[2.23586190e+004 2.22783421e+004 2.22806568e+004 2.22637144e+004\n",
            " 2.22837189e+004 2.22614713e+004 2.30185529e+004 2.24453312e+004\n",
            " 2.22727424e+004 6.93023426e-310 6.93023426e-310]\n",
            "Optimization terminated successfully.\n",
            "         Current function value: 1.198020\n",
            "         Iterations 6\n",
            "[2.23586190e+004 2.22783421e+004 2.22806568e+004 2.22637144e+004\n",
            " 2.22837189e+004 2.22614713e+004 2.30185529e+004 2.24453312e+004\n",
            " 2.22727424e+004 2.23231721e+004 6.93023426e-310]\n",
            "Optimization terminated successfully.\n",
            "         Current function value: 1.201180\n",
            "         Iterations 6\n",
            "[22358.61904722 22278.34207779 22280.65680887 22263.71441936\n",
            " 22283.71892616 22261.47130001 23018.55293813 22445.3312145\n",
            " 22272.74241218 22323.1720795  22298.82681293]\n"
          ]
        }
      ],
      "execution_count": 52,
      "metadata": {
        "scrolled": false,
        "id": "QZa3sD0mMjD6",
        "colab_type": "code",
        "colab": {
          "base_uri": "https://localhost:8080/",
          "height": 1000
        },
        "outputId": "57e1b6bb-78d0-4b9e-9ecc-dffaf7021d80"
      }
    },
    {
      "cell_type": "code",
      "source": [
        "N = 1000\n",
        "def choice_mapping(X):\n",
        "    guess = np.random.rand(len(X))\n",
        "    return int(guess<X[0].values) + int(guess<(X[0].values+X[1].values)) + int(guess<(X[0].values+X[1].values+X[2].values))+ int(guess<(X[0].values+X[1].values+X[2].values+X[3].values))\n",
        "best_mnlogit = mnlogit(formula=best_model, data=X).fit()\n",
        "\n",
        "def first_layer(N):\n",
        "    sample = X.sample(N, replace=True)[['Income', 'SalesChannel', 'CustomerLifetimeValue',\\\n",
        "                                        'MaritalStatus','MonthsSincePolicyInception',\\\n",
        "                                         'NumberofOpenComplaints','Gender']]\n",
        "    proba = best_mnlogit.predict(sample)\n",
        "    return proba"
      ],
      "outputs": [
        {
          "output_type": "stream",
          "name": "stdout",
          "text": [
            "Optimization terminated successfully.\n",
            "         Current function value: 1.201568\n",
            "         Iterations 6\n"
          ]
        }
      ],
      "execution_count": 53,
      "metadata": {
        "id": "YI1VWplCMjD7",
        "colab_type": "code",
        "colab": {
          "base_uri": "https://localhost:8080/",
          "height": 68
        },
        "outputId": "dcd2c963-ba66-4bc6-fc18-c0987b06c26c"
      }
    },
    {
      "cell_type": "code",
      "source": [
        "sample = X[['Income', 'SalesChannel', 'CustomerLifetimeValue',\\\n",
        "                                        'MaritalStatus','MonthsSincePolicyInception',\\\n",
        "                                         'NumberofOpenComplaints','Gender']]\n",
        "proba = first_layer(1000)"
      ],
      "outputs": [],
      "execution_count": 0,
      "metadata": {
        "id": "lb1eS0VyMjD7",
        "colab_type": "code",
        "colab": {}
      }
    },
    {
      "cell_type": "code",
      "source": [
        "best_model"
      ],
      "outputs": [
        {
          "output_type": "execute_result",
          "execution_count": 55,
          "data": {
            "text/plain": [
              "'RenewOfferType~Income+C(SalesChannel)+np.log(CustomerLifetimeValue)+C(MaritalStatus)+MonthsSincePolicyInception+NumberofOpenComplaints+C(Gender)'"
            ]
          },
          "metadata": {
            "tags": []
          }
        }
      ],
      "execution_count": 55,
      "metadata": {
        "id": "uViZbRAmMjD8",
        "colab_type": "code",
        "colab": {
          "base_uri": "https://localhost:8080/",
          "height": 34
        },
        "outputId": "1cba69bc-4e1b-45d8-9fd4-9ceb2da2d97c"
      }
    },
    {
      "cell_type": "code",
      "source": [
        "result = pd.merge(X, proba, how='right', left_index=True, right_index=True)"
      ],
      "outputs": [],
      "execution_count": 0,
      "metadata": {
        "id": "Zdb8UysTMjD9",
        "colab_type": "code",
        "colab": {}
      }
    },
    {
      "cell_type": "code",
      "source": [
        "result.to_csv('result_proba_first_layer.csv')"
      ],
      "outputs": [],
      "execution_count": 0,
      "metadata": {
        "id": "B7GjuyyXMjD-",
        "colab_type": "code",
        "colab": {}
      }
    },
    {
      "cell_type": "code",
      "source": [
        "proba"
      ],
      "outputs": [
        {
          "output_type": "execute_result",
          "execution_count": 58,
          "data": {
            "text/html": [
              "<div>\n",
              "<style scoped>\n",
              "    .dataframe tbody tr th:only-of-type {\n",
              "        vertical-align: middle;\n",
              "    }\n",
              "\n",
              "    .dataframe tbody tr th {\n",
              "        vertical-align: top;\n",
              "    }\n",
              "\n",
              "    .dataframe thead th {\n",
              "        text-align: right;\n",
              "    }\n",
              "</style>\n",
              "<table border=\"1\" class=\"dataframe\">\n",
              "  <thead>\n",
              "    <tr style=\"text-align: right;\">\n",
              "      <th></th>\n",
              "      <th>0</th>\n",
              "      <th>1</th>\n",
              "      <th>2</th>\n",
              "      <th>3</th>\n",
              "    </tr>\n",
              "  </thead>\n",
              "  <tbody>\n",
              "    <tr>\n",
              "      <th>6091</th>\n",
              "      <td>0.500856</td>\n",
              "      <td>0.237279</td>\n",
              "      <td>0.166476</td>\n",
              "      <td>0.095389</td>\n",
              "    </tr>\n",
              "    <tr>\n",
              "      <th>3001</th>\n",
              "      <td>0.403692</td>\n",
              "      <td>0.345509</td>\n",
              "      <td>0.169357</td>\n",
              "      <td>0.081443</td>\n",
              "    </tr>\n",
              "    <tr>\n",
              "      <th>5139</th>\n",
              "      <td>0.506690</td>\n",
              "      <td>0.251837</td>\n",
              "      <td>0.162930</td>\n",
              "      <td>0.078543</td>\n",
              "    </tr>\n",
              "    <tr>\n",
              "      <th>1558</th>\n",
              "      <td>0.663703</td>\n",
              "      <td>0.169344</td>\n",
              "      <td>0.135792</td>\n",
              "      <td>0.031161</td>\n",
              "    </tr>\n",
              "    <tr>\n",
              "      <th>4758</th>\n",
              "      <td>0.434500</td>\n",
              "      <td>0.263808</td>\n",
              "      <td>0.171441</td>\n",
              "      <td>0.130250</td>\n",
              "    </tr>\n",
              "    <tr>\n",
              "      <th>...</th>\n",
              "      <td>...</td>\n",
              "      <td>...</td>\n",
              "      <td>...</td>\n",
              "      <td>...</td>\n",
              "    </tr>\n",
              "    <tr>\n",
              "      <th>1049</th>\n",
              "      <td>0.136478</td>\n",
              "      <td>0.511042</td>\n",
              "      <td>0.153215</td>\n",
              "      <td>0.199265</td>\n",
              "    </tr>\n",
              "    <tr>\n",
              "      <th>6160</th>\n",
              "      <td>0.392212</td>\n",
              "      <td>0.326254</td>\n",
              "      <td>0.168508</td>\n",
              "      <td>0.113027</td>\n",
              "    </tr>\n",
              "    <tr>\n",
              "      <th>9102</th>\n",
              "      <td>0.357730</td>\n",
              "      <td>0.387118</td>\n",
              "      <td>0.148368</td>\n",
              "      <td>0.106784</td>\n",
              "    </tr>\n",
              "    <tr>\n",
              "      <th>5611</th>\n",
              "      <td>0.445023</td>\n",
              "      <td>0.303303</td>\n",
              "      <td>0.167977</td>\n",
              "      <td>0.083696</td>\n",
              "    </tr>\n",
              "    <tr>\n",
              "      <th>7372</th>\n",
              "      <td>0.379806</td>\n",
              "      <td>0.331443</td>\n",
              "      <td>0.164006</td>\n",
              "      <td>0.124745</td>\n",
              "    </tr>\n",
              "  </tbody>\n",
              "</table>\n",
              "<p>1000 rows × 4 columns</p>\n",
              "</div>"
            ],
            "text/plain": [
              "             0         1         2         3\n",
              "6091  0.500856  0.237279  0.166476  0.095389\n",
              "3001  0.403692  0.345509  0.169357  0.081443\n",
              "5139  0.506690  0.251837  0.162930  0.078543\n",
              "1558  0.663703  0.169344  0.135792  0.031161\n",
              "4758  0.434500  0.263808  0.171441  0.130250\n",
              "...        ...       ...       ...       ...\n",
              "1049  0.136478  0.511042  0.153215  0.199265\n",
              "6160  0.392212  0.326254  0.168508  0.113027\n",
              "9102  0.357730  0.387118  0.148368  0.106784\n",
              "5611  0.445023  0.303303  0.167977  0.083696\n",
              "7372  0.379806  0.331443  0.164006  0.124745\n",
              "\n",
              "[1000 rows x 4 columns]"
            ]
          },
          "metadata": {
            "tags": []
          }
        }
      ],
      "execution_count": 58,
      "metadata": {
        "id": "Faq5yF0IMjD-",
        "colab_type": "code",
        "colab": {
          "base_uri": "https://localhost:8080/",
          "height": 419
        },
        "outputId": "390dbd57-72fe-4c86-a66e-b45547114470"
      }
    }
  ],
  "metadata": {
    "kernelspec": {
      "name": "python3",
      "language": "python",
      "display_name": "Python 3"
    },
    "language_info": {
      "name": "python",
      "version": "3.7.3",
      "mimetype": "text/x-python",
      "codemirror_mode": {
        "name": "ipython",
        "version": 3
      },
      "pygments_lexer": "ipython3",
      "nbconvert_exporter": "python",
      "file_extension": ".py"
    },
    "toc": {
      "toc_position": {},
      "skip_h1_title": false,
      "number_sections": true,
      "title_cell": "Table of Contents",
      "toc_window_display": false,
      "base_numbering": 1,
      "toc_section_display": true,
      "title_sidebar": "Contents",
      "toc_cell": false,
      "nav_menu": {},
      "sideBar": true
    },
    "colab": {
      "name": "2_BA_CompanySide(First_Layer).ipynb",
      "provenance": []
    },
    "kernel_info": {
      "name": "python3"
    },
    "nteract": {
      "version": "0.15.0"
    }
  },
  "nbformat": 4,
  "nbformat_minor": 0
}